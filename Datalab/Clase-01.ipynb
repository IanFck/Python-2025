{
 "cells": [
  {
   "cell_type": "markdown",
   "metadata": {},
   "source": [
    "# Python para Data Science: Clase 01\n",
    "## Introducción a Python\n",
    "\n",
    "El presente archivo es conocido comúnmente como *Jupyter Notebook*. Las siglas `.ipynb` provienen justamente de **I**nteractive **Py**thon **N**ote**B**ook.\n",
    "\n",
    "El componentente principal de un Jupyter Notebook es la *celda* (*cell*), el cual permite ejecutar una pieza (*chunk*) de código, o bien escribir texto dentro de ella. Esta es una gran diferencia con respecto a un script con el formato *.py*, el cual ejecuta todo lo que está dentro de una sola vez. Además, ejecutar python de manera interactiva permite visualizar gráficos de forma inmediata!\n",
    "\n",
    "### Escribiendo texto\n",
    "\n",
    "La escritura de texto en un *Jupyter Notebook* se realiza creando una celda de texto, el cual utiliza el formato [*markdown*](https://www.markdownguide.org/getting-started/). Acá dejo algunos ejemplos:\n",
    "\n",
    "- Cursiva: `*este es un texto*  ` → *este es un texto*\n",
    "- Negrita: `**este es un texto**` → **este es un texto**\n",
    "- Tachado: `~este es un texto~  ` → ~este es un texto~\n",
    "- HTML: `<u>este es un texto</u>` → <u>este es un texto</u>\n",
    "- Matemática: `$\\int f(x) dx$    ` → $\\int f(x) dx$\n",
    "\n",
    "### Escribiendo código\n",
    "\n",
    "Para escribir código, basta con utilizar una celda de código y ejecutarla. A continuación un \"Hola mundo\" en Python:"
   ]
  },
  {
   "cell_type": "code",
   "execution_count": 1,
   "metadata": {},
   "outputs": [],
   "source": [
    "a = 2"
   ]
  },
  {
   "cell_type": "markdown",
   "metadata": {},
   "source": [
    "\n",
    "Esto es todo! Solo para ejemplificar lo simple que es la escritura en Python. A continuación están los \"Hola Mundo\" en lenguajes como C y Java\n",
    "\n",
    "```c\n",
    "// Ejemplo en C\n",
    "#include <stdio.h>\n",
    "int main() {\n",
    "    printf(\"Hola mundo\\n\");\n",
    "}\n",
    "```\n",
    "\n",
    "```java\n",
    "// Ejemplo en Java\n",
    "public class HolaMundo {\n",
    "    public static void main(String[] args) {\n",
    "        System.out.println(\"Hola mundo\");\n",
    "    }\n",
    "}\n",
    "\n",
    "```\n",
    "\n",
    "\n",
    "Volvamos a Python. Revisemos a continuación el código para una función que lea notas y verifique si el estudiante aprobó o no:\n",
    "\n",
    "```\n",
    "# Pseudocódigo\n",
    "Let d = a + b + c\n",
    "d = d / 3\n",
    "If d >= 4.0 then\n",
    "\treturn “Aprobado”\n",
    "Else\n",
    "\treturn “Reprobado”\n",
    "End if\n",
    "```"
   ]
  },
  {
   "cell_type": "code",
   "execution_count": 2,
   "metadata": {},
   "outputs": [
    {
     "data": {
      "text/plain": [
       "'Reprobado'"
      ]
     },
     "execution_count": 2,
     "metadata": {},
     "output_type": "execute_result"
    }
   ],
   "source": [
    "# Los comentarios empiezan con \"#\", esto significa que esta línea no se ejecuta\n",
    "# Ejemplo función para saber si el estudiante reprobó o no\n",
    "def revisar_notas(a, b, c):\n",
    "  d = a + b + c\n",
    "  d = d / 3\n",
    "\n",
    "  if d >= 4.0:\n",
    "    return \"Aprobado\"\n",
    "  else:\n",
    "    return \"Reprobado\"\n",
    "\n",
    "revisar_notas(1, 7, 3)"
   ]
  },
  {
   "cell_type": "code",
   "execution_count": 3,
   "metadata": {},
   "outputs": [
    {
     "data": {
      "text/plain": [
       "[<matplotlib.lines.Line2D at 0x1ab53463e20>]"
      ]
     },
     "execution_count": 3,
     "metadata": {},
     "output_type": "execute_result"
    },
    {
     "data": {
      "image/png": "[encoded data removed]",
      "text/plain": [
       "<Figure size 640x480 with 1 Axes>"
      ]
     },
     "metadata": {},
     "output_type": "display_data"
    }
   ],
   "source": [
    "# Este es un ejemplo para realizar un gráfico\n",
    "# no tienen por qué entenderlo en esta clase\n",
    "import matplotlib.pyplot as plt\n",
    "\n",
    "x = [-4, -3, -2, -1, 0, 1, 2, 3, 4] # range(-4, 5)\n",
    "y = [xi**2 for xi in x]\n",
    "\n",
    "plt.plot(x,y)"
   ]
  },
  {
   "cell_type": "markdown",
   "metadata": {},
   "source": [
    "### Impresión en Pantalla\n",
    "\n",
    "Imprimir en pantalla se refiere a mostrar en consola (pantalla) cierta información que el usuario quiere mostrar. En python, se utiliza la función `print`.\n",
    "\n",
    "*Notar que en notebooks el ejecutar una celda mostrará el resultado de la última expresión, siempre y cuando el resultado de dicha expresión produzca un resultado visible."
   ]
  },
  {
   "cell_type": "code",
   "execution_count": 4,
   "metadata": {},
   "outputs": [
    {
     "name": "stdout",
     "output_type": "stream",
     "text": [
      "Hola Mundo\n"
     ]
    }
   ],
   "source": [
    "# Esto imprimirá en pantalla el texto \"Hola Mundo\"\n",
    "print(\"Hola Mundo\")"
   ]
  },
  {
   "cell_type": "code",
   "execution_count": 5,
   "metadata": {},
   "outputs": [
    {
     "data": {
      "text/plain": [
       "'Hola Mundo'"
      ]
     },
     "execution_count": 5,
     "metadata": {},
     "output_type": "execute_result"
    }
   ],
   "source": [
    "# Esto mostrará el resultado de la expresión \"Hola Mundo\", el cual puede ser\n",
    "# asignado a una variable\n",
    "\"Hola Mundo\""
   ]
  },
  {
   "cell_type": "code",
   "execution_count": 6,
   "metadata": {},
   "outputs": [
    {
     "name": "stdout",
     "output_type": "stream",
     "text": [
      "Hola\n",
      "Mundo\n"
     ]
    }
   ],
   "source": [
    "# Qué hay de este caso?\n",
    "print(\"Hola\")\n",
    "\"otra frase\"\n",
    "print(\"Mundo\")"
   ]
  },
  {
   "cell_type": "code",
   "execution_count": 7,
   "metadata": {},
   "outputs": [
    {
     "name": "stdout",
     "output_type": "stream",
     "text": [
      "Hola\n",
      "Mundo\n"
     ]
    }
   ],
   "source": [
    "# Qué hay de este caso?\n",
    "print(\"Hola\")\n",
    "\"otra frase\"\n",
    "print(\"Mundo\")"
   ]
  },
  {
   "cell_type": "markdown",
   "metadata": {},
   "source": [
    "### Comentarios\n",
    "Habrán notado que hay textos que empiezan con `#` dentro de las celdas de código. Estos se conocen como comentarios, muy útiles para ir dejando notas que aclaren que hace cada parte del código, así como de desactivar alguna parte del mismo.\n",
    "\n",
    "Los comentarios están en todos los lenguajes de programación. El comienzo de un comentario dependerá del lenguaje de programación:\n",
    "\n",
    "| Lenguaje | Comentario |\n",
    "| - |- |\n",
    "| Python | `#`|\n",
    "| R | `#`|\n",
    "| C# | `//` o `/*  ... */` |\n",
    "| Java | `//` o `/*  ... */`|\n",
    "| SQL | `--` o `/*  ... */` |"
   ]
  },
  {
   "cell_type": "code",
   "execution_count": 8,
   "metadata": {},
   "outputs": [
    {
     "name": "stdout",
     "output_type": "stream",
     "text": [
      "Hola\n"
     ]
    }
   ],
   "source": [
    "print(\"Hola\") # Esto se ejecutará\n",
    "# print(\"Mundo\") # Esto no"
   ]
  },
  {
   "cell_type": "markdown",
   "metadata": {},
   "source": [
    "\n",
    "## Variables\n",
    "\n",
    "Las variables son un pilar fundamental de la programación: son la base para la creación de cualquier tipo de código.\n",
    "\n",
    "Existen distintos tipos de variables, los que nos permiten definir números, caracteres y cadenas de caracteres, booleanos, y otros más complejos como listas, diccionarios, y tuplas. La flexibilidad de Python en el manejo de variables es uno de sus puntos fuertes, permitiendo a los programadores manipular datos de manera eficiente y sencilla.\n",
    "\n",
    "### Declaración y asignación de variables\n",
    "\n",
    "A diferencia de muchos lenguajes de programación en Python no es necesario especificar el tipo de una variable; el mismo lenguaje se encarga de inferir el tipo. Este comportamiento se conoce como *tipado dinámico*."
   ]
  },
  {
   "cell_type": "code",
   "execution_count": 9,
   "metadata": {},
   "outputs": [],
   "source": [
    "# Ejemplos\n",
    "un_numero = 10 # tipo entero (int)\n",
    "un_texto = \"Hola Mundo\" # cadena de caracteres (str)"
   ]
  },
  {
   "cell_type": "markdown",
   "metadata": {},
   "source": [
    "Nombres de variables\n",
    "\n",
    "Los nombres de variables DEBEN comenzar con una letra (mayúscula o minúscula) o un guión bajo (_) y pueden estar seguidos de más letras, dígitos o guiones bajos. NO PUEDEN tener caracteres especiales ni espacios. Además, las variables son sensibles a mayúsculas y minúsculas por lo que nombres como `Variable`, `variable` y `VARIABLE` serán tres variables distintas.  "
   ]
  },
  {
   "cell_type": "code",
   "execution_count": 10,
   "metadata": {},
   "outputs": [
    {
     "ename": "SyntaxError",
     "evalue": "invalid decimal literal (2255838781.py, line 4)",
     "output_type": "error",
     "traceback": [
      "\u001b[1;36m  Cell \u001b[1;32mIn[10], line 4\u001b[1;36m\u001b[0m\n\u001b[1;33m    4_variable = 4 # Esto tirará un error\u001b[0m\n\u001b[1;37m     ^\u001b[0m\n\u001b[1;31mSyntaxError\u001b[0m\u001b[1;31m:\u001b[0m invalid decimal literal\n"
     ]
    }
   ],
   "source": [
    "variable_1 = 1\n",
    "VARIABLE_2 = 2\n",
    "_variable_3 = 3\n",
    "4_variable = 4 # Esto tirará un error\n",
    "variable-5 = 5 # Esto tambien"
   ]
  },
  {
   "cell_type": "markdown",
   "metadata": {},
   "source": [
    "No existen otras reglas para las variables aparte de las ya mencionadas. Lo que si es buena práctica es que el nombre de esta sea representativa de su contenido, de forma que cuando alguien externo lea el código le sea facil de entender."
   ]
  },
  {
   "cell_type": "code",
   "execution_count": null,
   "metadata": {},
   "outputs": [],
   "source": [
    "blabla = 5 # No recomendado\n",
    "cinco = 5"
   ]
  },
  {
   "cell_type": "markdown",
   "metadata": {},
   "source": [
    "Entro otras buenas prácticas está la guía de estilo [PEP8](https://peps.python.org/pep-0008/), altamente recomendada para la escritura de código en Python. Por el lado de las variables se recomienda el guíon bajo como reemplazo de los espacios, así como usar capitalizacion solo en las clases. La siguiente tabla describe nombres típicos:\n",
    "\n",
    "|nombre|descripción|\n",
    "| - | - |\n",
    "| `mi_nombre` | Nombre para una variable, función, o módulo |\n",
    "| `MI_NOMBRE` | Nombre para una variable constante (que no cambie su valor) |\n",
    "| `MiNombre` | Nombre para una clase |\n",
    "\n",
    "*NOTA: Puede que lleguen a toparse con nombres de variables de la forma `miNombre`, la que es más común en otros lenguajes como `C#` o `Java`."
   ]
  },
  {
   "cell_type": "markdown",
   "metadata": {},
   "source": [
    "### Tipos de variables\n",
    "\n",
    "Dependiendo del tipo de dato de una variable, esta ocupará un determinado espacio de memoria en el sistema. Conocer el consumo de memoria es importante cuando se trabaja con enormes volúmenes de datos, lo que se escapa un tanto del objetivo del curso. Sin embargo, sigue siendo importante entenderlo.\n",
    "\n",
    "#### De bits a bytes\n",
    "\n",
    "Un *bit* (binary digit) es la unidad mínima de información que permite representar dos estados (Falso o Verdadero, Apagado o Encendido). Por otro lado, un *byte* corresponde a 8 bits y es la unidad mínima de almacenamiento en la mayoría de los sistemas computacionales. Matemáticamente, en un byte caen $2^8=256$ valores distintos.\n",
    "\n",
    "Seguramente ya han visto el uso de bytes en un computador, ya sea por el tamaño de un archivo, o por las capacidades en disco o memoria RAM de este, por ejemplo, que el equipo tenga 8GB de RAM significa que en memoria caben $8\\times 10^9$ bytes. La letra `G` representa justamente el valor $10^9$, seguramente también habrán visto la terminología `MB` ($10^6$ bytes) y `KB` ($10^3$ bytes) en archivos, así como `TB` ($10^{12}$ bytes) en discos. Ya habrán notado que la nomenclatura es bastante sencilla: se va aumentado de mil en mil de la forma `B`→`KB`→`MB`→`GB`→`TB` ...\n",
    "\n",
    "Volviendo a los tipos de variables, por ahora estudiaremos los siguientes tipos de datos básicos: enteros (`int`), reales (`float`), cadenas de caracteres (`str`) y booleanos (`bool`).\n",
    "\n",
    "Antes de entrar en detalle, es importante mencionar que en Python existe la función `type` para averiguar el tipo de una variable, ejemplo:\n"
   ]
  },
  {
   "cell_type": "code",
   "execution_count": null,
   "metadata": {},
   "outputs": [
    {
     "name": "stdout",
     "output_type": "stream",
     "text": [
      "<class 'int'>\n",
      "<class 'bool'>\n"
     ]
    }
   ],
   "source": [
    "print(type(10))\n",
    "print(type(True))"
   ]
  },
  {
   "cell_type": "markdown",
   "metadata": {},
   "source": [
    "### Enteros\n",
    "\n",
    "Los enteros (en inglés `integers`) se utilizan para representar números SIN parte decimal. Típicamente un entero utiliza 2 bytes, lo que permite tener $2^{(8\\times2)}=65536$ como valor máximo. Sin embargo, en **Python el valor de un entero es dinámico**: el lenguaje mismo se encarga de reasignar memoria si es que se necesita. Así por ejemplo, le podría asignar 4 en vez de 2, dando un valor máximo de $2^{(8\\times4)}=4294967296$.\n",
    "\n",
    "Sin embargo, acá no hemos considerado algo importante, ¿qué hay de los números negativos? computacionalmente solo se necesita un bit para describir el signo de un número. Por lo que en realidad, si hablamos de un entero de 4 bytes CON signo, entonces los valores límites son $\\pm2^{(8\\times4-1)}=\\pm2147483648$.\n",
    "\n",
    "En Python cualquier variable a la que se asigne un valor númerico sin decimal (sin punto) será automaticamente definida como entero:"
   ]
  },
  {
   "cell_type": "code",
   "execution_count": null,
   "metadata": {},
   "outputs": [
    {
     "name": "stdout",
     "output_type": "stream",
     "text": [
      "<class 'int'> <class 'int'> <class 'float'>\n"
     ]
    }
   ],
   "source": [
    "mi_entero = 20\n",
    "mi_entero_negativo = -20\n",
    "no_es_entero = 20. # Lo mismo que usar 20.0\n",
    "print(type(mi_entero), type(mi_entero_negativo), type(no_es_entero))"
   ]
  },
  {
   "cell_type": "markdown",
   "metadata": {},
   "source": [
    "### Reales\n",
    "\n",
    "En Python los números reales se representan con el tipo `float`, conocido como punto flotante, el cual utiliza en este caso 8 bytes. Es importante mencionar que lo que se conoce `float` en Python en otros lenguajes corresponde al tipo `double`.\n",
    "\n",
    "En este tipo de elementos, además de necesitar un bit para almacenar el signo, también se requiere otra parte para representar los decimales. Es por eso que el estandar computacional utiliza 11 bits para representar el exponente, y otros 52 para representar la parte decimal (conocida como mantisa). Pueden entender esto por medio de la notación científica $\\text{mantisa}\\times10^\\text{exponente}$.\n",
    "\n",
    "![](https://upload.wikimedia.org/wikipedia/commons/thumb/a/a9/IEEE_754_Double_Floating_Point_Format.svg/1920px-IEEE_754_Double_Floating_Point_Format.svg.png)\n",
    "\n",
    "\n",
    "No entraremos en detalle sobre la matemática, solo diremos que el rango de valores van desde aproximadamente $5\\times10^{-308}$ a $1.7\\times10^{308}$. Esta aparente falta de simetría se debe a cómo se representan los números de punto flotante: además de poder representar una vasta gama de números reales, positivos y negativos, el estándar también reserva representaciones especiales para el cero, infinito positivo y negativo, y \"NaN\" (Not a Number), que influyen en la distribución del rango disponible.\n",
    "\n",
    "En Python hay distintas formas de obtener un `float`\n",
    "\n",
    "1. Declarando un valor con un `.`\n",
    "2. El resultado de una división de números enteros\n",
    "3. El resultado de una operación entre un entero y un real\n",
    "4. Utilizando notación cientifica, por ej `2e6` es equivalente a $2\\times10^6$"
   ]
  },
  {
   "cell_type": "code",
   "execution_count": null,
   "metadata": {},
   "outputs": [
    {
     "name": "stdout",
     "output_type": "stream",
     "text": [
      "0.5 <class 'float'>\n",
      "0.5 <class 'float'>\n",
      "0.5 <class 'float'>\n",
      "inf <class 'float'>\n"
     ]
    }
   ],
   "source": [
    "un_float = 0.5\n",
    "otro_float = 1 / 2 # Division\n",
    "otro_float_cientifico = 5e-1\n",
    "practicamente_infinito = 1e309\n",
    "\n",
    "print(un_float, type(un_float))\n",
    "print(otro_float, type(otro_float))\n",
    "print(otro_float_cientifico, type(otro_float_cientifico))\n",
    "print(practicamente_infinito, type(practicamente_infinito))"
   ]
  },
  {
   "cell_type": "markdown",
   "metadata": {},
   "source": [
    "### Cadenas de caracteres\n",
    "\n",
    "Un caracter es la representación de un símbolo o letra. Dependiendo del tipo de caracter, este será representado con 1, 2 o 4 bytes. Por ejemplo, los símbolos del código [ASCII](https://www.ascii-code.com/) solo necesitan 1 byte. Si se trata de lenguajes como el español, entonces se extiende a 2 bytes. Símbolos más actuales, como emojies y otros, necesitan de 4 bytes para su represantación.\n",
    "\n",
    "Una cadena de caracteres es precisamente un conjunto de caracteres, lo que también se conoce como \"string\" (`str`). En Python el espacio que puede tomar un string en memoria es dinámico, lo que significa que podemos agregar o quitar caracteres sin problemas.\n",
    "\n",
    "En otros lenguajes de programación existe una diferencia entre lo que es un simple caracter de una cadena de caracteres. En el caso de Python ambos son representaciones del mismo tipo `str`."
   ]
  },
  {
   "cell_type": "code",
   "execution_count": null,
   "metadata": {},
   "outputs": [
    {
     "name": "stdout",
     "output_type": "stream",
     "text": [
      "H <class 'str'>\n",
      "Hola <class 'str'>\n",
      "Hola Mundo <class 'str'>\n"
     ]
    }
   ],
   "source": [
    "un_caracter = \"H\"\n",
    "un_string = \"Hola\"\n",
    "otro_string = \" Mundo\"\n",
    "nuevo_string = un_string + otro_string # Suma\n",
    "print(un_caracter, type(un_caracter))\n",
    "print(un_string, type(un_string))\n",
    "print(nuevo_string, type(nuevo_string))"
   ]
  },
  {
   "cell_type": "markdown",
   "metadata": {},
   "source": [
    "### Booleanos\n",
    "\n",
    "El termino \"booleano\" (`bool`) proviene de George Boole, matemático inglés del siglo XIX considerado uno de los fundadores de la aritmética computacional moderna.\n",
    "\n",
    "Un booleano es un valor que representa Falso (`False`) o Verdadero (`True`). Si bien nos basta solo 1 bit para esta representación, los computadores lo almacenan en 1 byte para que sea mucho más facil de trabajar.\n",
    "\n",
    "Podemos obtener una variable de tipo `bool` al\n",
    "\n",
    "1. Definir explicitamente el elemento como `False` o `True`\n",
    "2. Al realizar una operación comparativa"
   ]
  },
  {
   "cell_type": "code",
   "execution_count": null,
   "metadata": {},
   "outputs": [],
   "source": [
    "un_bool = True\n",
    "otro_bool = 1 > 2 # uno es mayor a 2\n",
    "print(un_bool, type(un_bool))\n",
    "print(otro_bool, type(otro_bool))"
   ]
  },
  {
   "cell_type": "markdown",
   "metadata": {},
   "source": [
    "Podemos resumir los tipos con la siguiente tabla\n",
    "\n",
    "| Tipo de Dato | Descripción     | Ejemplo                  |\n",
    "|--------------|-----------------------------------------|--------------------------|\n",
    "| `int`        | Números enteros sin parte decimal. Pueden ser positivos o negativos.                             | `42`, `-7`               |\n",
    "| `float`      | Números reales con parte decimal. Representados en notación de punto flotante de doble precisión. | `3.14`, `-0.001`         |\n",
    "| `str`        | Secuencias de caracteres para datos de texto. | `\"a\"`, `\"Hola Mundo\"`        |\n",
    "| `bool`       | Representan valores verdaderos o falsos.                              | `True`, `False`          |"
   ]
  },
  {
   "cell_type": "markdown",
   "metadata": {},
   "source": [
    "## Conversión de tipos de variables\n",
    "\n",
    "En algunos casos nos encontraremos con la necesidad de convertir un tipo de variable a otro. Por ejemplo, puede ser que en una tabla los elementos de una columna sean números, pero estén representados como strings. Otro caso es cuando queremos obviar la parte decimal de un número.\n",
    "\n",
    "En Python la conversión de un tipo a otro es bastante sencilla: basta con utilizar el tipo como si de una función se tratase"
   ]
  },
  {
   "cell_type": "code",
   "execution_count": null,
   "metadata": {},
   "outputs": [],
   "source": [
    "un_entero = int(\"1\")\n",
    "un_float = float(\"3.5\")\n",
    "otro_entero = int(un_float)\n",
    "un_string = str(otro_entero)\n",
    "print(un_entero, type(un_entero))\n",
    "print(un_float, type(un_float))\n",
    "print(otro_entero, type(otro_entero))\n",
    "print(un_string, type(un_string))"
   ]
  },
  {
   "cell_type": "markdown",
   "metadata": {},
   "source": [
    "El caso de los booleanos es un caso interesante. En Python, mientras la variable no sea cero o esté \"vacía\", la expresión `bool()` lo convertirá a `True`, caso contrario será `False`."
   ]
  },
  {
   "cell_type": "code",
   "execution_count": null,
   "metadata": {},
   "outputs": [
    {
     "name": "stdout",
     "output_type": "stream",
     "text": [
      "True\n",
      "False\n",
      "False\n",
      "True\n",
      "True\n"
     ]
    }
   ],
   "source": [
    "print(bool(1))\n",
    "print(bool(\"\")) # String vacio\n",
    "print(bool(0.0))\n",
    "print(bool(-0.1))\n",
    "print(bool(\"False\"))"
   ]
  },
  {
   "cell_type": "markdown",
   "metadata": {},
   "source": [
    "## Operadores\n",
    "Los operadores nos permiten llevar a cabo cálculos, comparaciones y manipulaciones lógicas a nuestras variables y/o a cualquier valor que se está siendo usado. El resultado de una operación siempre puede ser asignado a una variable.\n",
    "\n",
    "### Operadores binarios\n",
    "Los operadores binarios, también conocidos como operadorers aritméticos, son todas las operaciones aritméticas básicas que se realizan sobre dos operandos:\n",
    "\n",
    "- **Suma**: `a + b`\n",
    "- **Resta**: `a - b`\n",
    "- **Multiplicación**: `a * b`\n",
    "- **División**: `a / b`\n",
    "- **División entera**: `a // b`\n",
    "- **Módulo (Resto)**: `a % b`\n",
    "- **Potencia**: `a ** b`"
   ]
  },
  {
   "cell_type": "code",
   "execution_count": null,
   "metadata": {},
   "outputs": [
    {
     "name": "stdout",
     "output_type": "stream",
     "text": [
      "sum     5\n",
      "res     1\n",
      "mult    6\n",
      "div     1.5\n",
      "int div 1\n",
      "mod     1\n",
      "pot     9\n"
     ]
    }
   ],
   "source": [
    "a = 3\n",
    "b = 2\n",
    "print(\"sum    \", a + b)\n",
    "print(\"res    \", a - b)\n",
    "print(\"mult   \", a * b)\n",
    "print(\"div    \", a / b)\n",
    "print(\"int div\", a // b)\n",
    "print(\"mod    \", a % b)\n",
    "print(\"pot    \", a ** b)"
   ]
  },
  {
   "cell_type": "markdown",
   "metadata": {},
   "source": [
    "Los operadores binarios no son exclusivos de los números, también podemos usar algunos de ellos sobre booleanos y strings:"
   ]
  },
  {
   "cell_type": "code",
   "execution_count": null,
   "metadata": {},
   "outputs": [
    {
     "name": "stdout",
     "output_type": "stream",
     "text": [
      "2\n",
      "Hola Mundo\n",
      "0\n",
      "aaa\n"
     ]
    }
   ],
   "source": [
    "print(True + True)\n",
    "print(\"Hola\" + \" Mundo\")\n",
    "print(True - True)\n",
    "print(\"a\" * 3)"
   ]
  },
  {
   "cell_type": "markdown",
   "metadata": {},
   "source": [
    "### Operadores de comparación\n",
    "\n",
    "Como su nombre lo indica, este tipo de operadores nos permiten comparar dos elementos, devolviendo un valor booleano que indica si la condición se cumple (`True`) o no (`False`):\n",
    "\n",
    "- **Igual a**: `a == b`\n",
    "- **No igual a**: `a != b`\n",
    "- **Mayor que**: `a > b`\n",
    "- **Menor que**: `a < b`\n",
    "- **Mayor o igual que**: `a >= b`\n",
    "- **Menor o igual que**: `a <= b`"
   ]
  },
  {
   "cell_type": "code",
   "execution_count": null,
   "metadata": {},
   "outputs": [
    {
     "name": "stdout",
     "output_type": "stream",
     "text": [
      "eq  True\n",
      "neq False\n",
      "gt  False\n",
      "lt  False\n",
      "gte True\n",
      "lte True\n"
     ]
    }
   ],
   "source": [
    "a = 3\n",
    "b = 3\n",
    "print(\"eq \", a == b)\n",
    "print(\"neq\", a != b)\n",
    "print(\"gt \", a > b)\n",
    "print(\"lt \", a < b)\n",
    "print(\"gte\", a >= b)\n",
    "print(\"lte\", a <= b)"
   ]
  },
  {
   "cell_type": "markdown",
   "metadata": {},
   "source": [
    "### Operadores lógicos\n",
    "\n",
    "Los operadores lógicos son usados para combinar expresiones booleanas:\n",
    "\n",
    "- **Y (and)**: `a and b`\n",
    "- **O (or)**: `a or b`\n",
    "- **Negación (not)**: `not a`\n",
    "\n",
    "Las siguientes tablas, conocidas también como tablas de verdad, describen mejor el funcionamiento:\n",
    "#### Operación `and`\n",
    "\n",
    "| a     | b     | a and b |\n",
    "|-------|-------|---------|\n",
    "| True  | True  | True    |\n",
    "| True  | False | False   |\n",
    "| False | True  | False   |\n",
    "| False | False | False   |\n",
    "\n",
    "#### Operación `or`\n",
    "\n",
    "| a     | b     | a or b  |\n",
    "|-------|-------|---------|\n",
    "| True  | True  | True    |\n",
    "| True  | False | True    |\n",
    "| False | True  | True    |\n",
    "| False | False | False   |\n",
    "\n",
    "#### Operación `not`\n",
    "\n",
    "| a     | not a |\n",
    "|-------|-------|\n",
    "| True  | False |\n",
    "| False | True  |"
   ]
  },
  {
   "cell_type": "code",
   "execution_count": null,
   "metadata": {},
   "outputs": [
    {
     "name": "stdout",
     "output_type": "stream",
     "text": [
      "False\n",
      "True\n",
      "True\n"
     ]
    }
   ],
   "source": [
    "a = True\n",
    "b = False\n",
    "print(a and b)\n",
    "print(a and not b)\n",
    "print(a or b)"
   ]
  },
  {
   "cell_type": "markdown",
   "metadata": {},
   "source": [
    "En Python existe un operador lógico para saber si un elemento está dentro de una secuencia de otros elementos (tiene que ver con estructuras de datos). Este operador es `in`, y podemos saber por ejemplo, si un caracter o incluso un subconjunto de un string está dentro de este:"
   ]
  },
  {
   "cell_type": "code",
   "execution_count": null,
   "metadata": {},
   "outputs": [
    {
     "name": "stdout",
     "output_type": "stream",
     "text": [
      "True\n",
      "True\n",
      "False\n"
     ]
    }
   ],
   "source": [
    "un_string = \"Hola Mundo\"\n",
    "print(\"a\" in un_string)\n",
    "print(\"Hola\" in un_string )\n",
    "print(\"Mundo\" not in un_string )"
   ]
  }
 ],
 "metadata": {
  "kernelspec": {
   "display_name": "Python 3",
   "language": "python",
   "name": "python3"
  },
  "language_info": {
   "codemirror_mode": {
    "name": "ipython",
    "version": 3
   },
   "file_extension": ".py",
   "mimetype": "text/x-python",
   "name": "python",
   "nbconvert_exporter": "python",
   "pygments_lexer": "ipython3",
   "version": "3.10.5"
  }
 },
 "nbformat": 4,
 "nbformat_minor": 2
}
