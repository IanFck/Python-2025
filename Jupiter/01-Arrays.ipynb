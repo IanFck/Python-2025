{
 "cells": [
  {
   "cell_type": "markdown",
   "id": "7c154962",
   "metadata": {},
   "source": [
    "numpy funciones matematicas \n",
    "pandas\n",
    "matplotlib"
   ]
  },
  {
   "cell_type": "code",
   "execution_count": 1,
   "id": "9cc779df",
   "metadata": {},
   "outputs": [
    {
     "name": "stdout",
     "output_type": "stream",
     "text": [
      "Requirement already satisfied: numpy in c:\\users\\facki\\appdata\\local\\programs\\python\\python310\\lib\\site-packages (2.2.6)\n"
     ]
    },
    {
     "name": "stderr",
     "output_type": "stream",
     "text": [
      "WARNING: You are using pip version 22.0.4; however, version 25.1.1 is available.\n",
      "You should consider upgrading via the 'C:\\Users\\facki\\AppData\\Local\\Programs\\Python\\Python310\\python.exe -m pip install --upgrade pip' command.\n"
     ]
    }
   ],
   "source": [
    "!pip install numpy"
   ]
  },
  {
   "cell_type": "markdown",
   "id": "1f87c76b",
   "metadata": {},
   "source": [
    "Funciones de Numpy argmax()-argmin()/Max-min en Python \n",
    "sqrt() Para sacar la raiz cuadrada "
   ]
  },
  {
   "cell_type": "code",
   "execution_count": 2,
   "id": "f2d89dde",
   "metadata": {},
   "outputs": [],
   "source": [
    "import numpy as np"
   ]
  },
  {
   "cell_type": "code",
   "execution_count": 3,
   "id": "83ce3574",
   "metadata": {},
   "outputs": [
    {
     "name": "stdout",
     "output_type": "stream",
     "text": [
      "Hola\n"
     ]
    }
   ],
   "source": [
    "print (\"Hola\")"
   ]
  },
  {
   "cell_type": "code",
   "execution_count": 4,
   "id": "c04e1099",
   "metadata": {},
   "outputs": [],
   "source": [
    "import sys"
   ]
  },
  {
   "cell_type": "markdown",
   "id": "7d546e97",
   "metadata": {},
   "source": [
    "#### Creando una lista"
   ]
  },
  {
   "cell_type": "code",
   "execution_count": 5,
   "id": "f711430c",
   "metadata": {},
   "outputs": [
    {
     "data": {
      "text/plain": [
       "[1, 2, 3, 4, 5, 6, 7, 8, 9, 10]"
      ]
     },
     "execution_count": 5,
     "metadata": {},
     "output_type": "execute_result"
    }
   ],
   "source": [
    "lista = list(range(1,11))\n",
    "lista"
   ]
  },
  {
   "cell_type": "markdown",
   "id": "adf568cc",
   "metadata": {},
   "source": [
    "Pasando de lista a un Array\n",
    "Array es una funcion de numpy"
   ]
  },
  {
   "cell_type": "code",
   "execution_count": 6,
   "id": "cc30acbc",
   "metadata": {},
   "outputs": [
    {
     "data": {
      "text/plain": [
       "array([ 1,  2,  3,  4,  5,  6,  7,  8,  9, 10])"
      ]
     },
     "execution_count": 6,
     "metadata": {},
     "output_type": "execute_result"
    }
   ],
   "source": [
    "arreglo = np.array(lista)\n",
    "arreglo"
   ]
  },
  {
   "cell_type": "markdown",
   "id": "90c1fe58",
   "metadata": {},
   "source": [
    "#### Crear una lista de solo numeros unos"
   ]
  },
  {
   "cell_type": "code",
   "execution_count": 7,
   "id": "86fc85c3",
   "metadata": {},
   "outputs": [
    {
     "data": {
      "text/plain": [
       "array([1., 1., 1., 1., 1., 1., 1., 1., 1., 1., 1., 1., 1., 1., 1., 1., 1.,\n",
       "       1., 1., 1., 1., 1., 1., 1.])"
      ]
     },
     "execution_count": 7,
     "metadata": {},
     "output_type": "execute_result"
    }
   ],
   "source": [
    "unos = np.ones(24)\n",
    "unos"
   ]
  },
  {
   "cell_type": "code",
   "execution_count": 8,
   "id": "c1855868",
   "metadata": {},
   "outputs": [
    {
     "data": {
      "text/plain": [
       "array([0., 0., 0., 0., 0., 0., 0., 0., 0., 0., 0., 0., 0., 0., 0., 0., 0.,\n",
       "       0., 0., 0., 0., 0., 0., 0., 0., 0., 0., 0., 0., 0., 0., 0., 0., 0.,\n",
       "       0., 0., 0., 0., 0., 0., 0., 0., 0., 0., 0., 0., 0., 0., 0., 0., 0.,\n",
       "       0., 0., 0., 0., 0., 0., 0., 0., 0., 0., 0., 0., 0., 0., 0., 0., 0.,\n",
       "       0., 0., 0., 0., 0., 0., 0., 0., 0., 0., 0., 0., 0., 0., 0., 0., 0.,\n",
       "       0., 0., 0., 0., 0., 0., 0., 0., 0., 0., 0., 0., 0., 0., 0.])"
      ]
     },
     "execution_count": 8,
     "metadata": {},
     "output_type": "execute_result"
    }
   ],
   "source": [
    "ceros = np.zeros(100)\n",
    "ceros"
   ]
  },
  {
   "cell_type": "code",
   "execution_count": 9,
   "id": "e3fb9043",
   "metadata": {},
   "outputs": [
    {
     "data": {
      "text/plain": [
       "numpy.ndarray"
      ]
     },
     "execution_count": 9,
     "metadata": {},
     "output_type": "execute_result"
    }
   ],
   "source": [
    "type(ceros)"
   ]
  },
  {
   "cell_type": "code",
   "execution_count": 10,
   "id": "f4dbba20",
   "metadata": {},
   "outputs": [
    {
     "data": {
      "text/plain": [
       "dtype('int64')"
      ]
     },
     "execution_count": 10,
     "metadata": {},
     "output_type": "execute_result"
    }
   ],
   "source": [
    "arreglo.dtype"
   ]
  },
  {
   "cell_type": "code",
   "execution_count": 11,
   "id": "06dfe967",
   "metadata": {},
   "outputs": [
    {
     "data": {
      "text/plain": [
       "['Ian', 22, True]"
      ]
     },
     "execution_count": 11,
     "metadata": {},
     "output_type": "execute_result"
    }
   ],
   "source": [
    "lista2 = [\"Ian\", 22, True]\n",
    "lista2"
   ]
  },
  {
   "cell_type": "code",
   "execution_count": 12,
   "id": "1c451d14",
   "metadata": {},
   "outputs": [
    {
     "data": {
      "text/plain": [
       "array(['Ian', '22', 'True'], dtype='<U21')"
      ]
     },
     "execution_count": 12,
     "metadata": {},
     "output_type": "execute_result"
    }
   ],
   "source": [
    "arreglo2 = np.array(lista2)\n",
    "arreglo2"
   ]
  },
  {
   "cell_type": "markdown",
   "id": "dd03cc51",
   "metadata": {},
   "source": [
    "### Consultando la cantidad de memoria ocupada"
   ]
  },
  {
   "cell_type": "code",
   "execution_count": 13,
   "id": "a837e725",
   "metadata": {},
   "outputs": [
    {
     "name": "stdout",
     "output_type": "stream",
     "text": [
      "Memoria ocupada por la lista: 136 bytes\n",
      "Memorua ocupada por el array: 80 bytes\n"
     ]
    }
   ],
   "source": [
    "memoria_lista = sys.getsizeof(lista)\n",
    "memoria_arreglo = arreglo.nbytes\n",
    "\n",
    "print(f\"Memoria ocupada por la lista: {memoria_lista} bytes\")\n",
    "print(f\"Memorua ocupada por el array: {memoria_arreglo} bytes\")"
   ]
  },
  {
   "cell_type": "markdown",
   "id": "4ca8f37c",
   "metadata": {},
   "source": [
    "### Promedio del arreglo"
   ]
  },
  {
   "cell_type": "code",
   "execution_count": 14,
   "id": "60f2b72a",
   "metadata": {},
   "outputs": [
    {
     "data": {
      "text/plain": [
       "np.float64(5.5)"
      ]
     },
     "execution_count": 14,
     "metadata": {},
     "output_type": "execute_result"
    }
   ],
   "source": [
    "promedio = np.mean(lista)\n",
    "promedio"
   ]
  },
  {
   "cell_type": "code",
   "execution_count": 15,
   "id": "df773658",
   "metadata": {},
   "outputs": [
    {
     "data": {
      "text/plain": [
       "array([ 1.,  2.,  3.,  4.,  5.,  6.,  7.,  8.,  9., 10.])"
      ]
     },
     "execution_count": 15,
     "metadata": {},
     "output_type": "execute_result"
    }
   ],
   "source": [
    "new_arreglo = arreglo.astype(np.float64)\n",
    "new_arreglo"
   ]
  },
  {
   "cell_type": "markdown",
   "id": "ae774a12",
   "metadata": {},
   "source": [
    "### Aplicando el paquete random\n",
    "\n",
    "Se genera una lista de numeros enteros aleatorios, que van desde el numero que le deseamos escoger"
   ]
  },
  {
   "cell_type": "code",
   "execution_count": 16,
   "id": "9e095471",
   "metadata": {},
   "outputs": [
    {
     "data": {
      "text/plain": [
       "7"
      ]
     },
     "execution_count": 16,
     "metadata": {},
     "output_type": "execute_result"
    }
   ],
   "source": [
    "np.random.randint(10)"
   ]
  },
  {
   "cell_type": "code",
   "execution_count": 17,
   "id": "ab55b831",
   "metadata": {},
   "outputs": [
    {
     "data": {
      "text/plain": [
       "82"
      ]
     },
     "execution_count": 17,
     "metadata": {},
     "output_type": "execute_result"
    }
   ],
   "source": [
    "np.random.randint(1,100)"
   ]
  },
  {
   "cell_type": "code",
   "execution_count": 18,
   "id": "8501b82a",
   "metadata": {},
   "outputs": [
    {
     "data": {
      "text/plain": [
       "array([[[0.5871505 , 0.54217255, 0.21397657, 0.31151642],\n",
       "        [0.823683  , 0.24494205, 0.35821397, 0.91845469],\n",
       "        [0.9575466 , 0.80888694, 0.40862301, 0.61722488],\n",
       "        [0.78261205, 0.61960391, 0.67671591, 0.83079381],\n",
       "        [0.51564342, 0.30368271, 0.37675134, 0.17111396],\n",
       "        [0.00758133, 0.70103462, 0.13375968, 0.43127607],\n",
       "        [0.73235356, 0.16190822, 0.39250387, 0.91930878],\n",
       "        [0.63031528, 0.86199018, 0.04100205, 0.81754198],\n",
       "        [0.7449614 , 0.42853482, 0.17221007, 0.95038434],\n",
       "        [0.38194838, 0.01727763, 0.14103871, 0.08803967]]])"
      ]
     },
     "execution_count": 18,
     "metadata": {},
     "output_type": "execute_result"
    }
   ],
   "source": [
    "np.random.rand(1,10,4)"
   ]
  }
 ],
 "metadata": {
  "kernelspec": {
   "display_name": "Python 3",
   "language": "python",
   "name": "python3"
  },
  "language_info": {
   "codemirror_mode": {
    "name": "ipython",
    "version": 3
   },
   "file_extension": ".py",
   "mimetype": "text/x-python",
   "name": "python",
   "nbconvert_exporter": "python",
   "pygments_lexer": "ipython3",
   "version": "3.10.5"
  }
 },
 "nbformat": 4,
 "nbformat_minor": 5
}
