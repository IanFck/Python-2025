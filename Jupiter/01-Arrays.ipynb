{
 "cells": [
  {
   "cell_type": "markdown",
   "id": "7c154962",
   "metadata": {},
   "source": [
    "numpy funciones matematicas \n",
    "pandas\n",
    "matplotlib"
   ]
  },
  {
   "cell_type": "code",
   "execution_count": 33,
   "id": "9cc779df",
   "metadata": {},
   "outputs": [
    {
     "name": "stdout",
     "output_type": "stream",
     "text": [
      "Requirement already satisfied: numpy in c:\\users\\facki\\appdata\\local\\programs\\python\\python310\\lib\\site-packages (2.2.6)\n"
     ]
    },
    {
     "name": "stderr",
     "output_type": "stream",
     "text": [
      "WARNING: You are using pip version 22.0.4; however, version 25.1.1 is available.\n",
      "You should consider upgrading via the 'C:\\Users\\facki\\AppData\\Local\\Programs\\Python\\Python310\\python.exe -m pip install --upgrade pip' command.\n"
     ]
    }
   ],
   "source": [
    "!pip install numpy"
   ]
  },
  {
   "cell_type": "markdown",
   "id": "1f87c76b",
   "metadata": {},
   "source": [
    "Funciones de Numpy argmax()-argmin()/Max-min en Python \n",
    "sqrt() Para sacar la raiz cuadrada "
   ]
  },
  {
   "cell_type": "code",
   "execution_count": 34,
   "id": "f2d89dde",
   "metadata": {},
   "outputs": [],
   "source": [
    "import numpy as np"
   ]
  },
  {
   "cell_type": "code",
   "execution_count": 35,
   "id": "83ce3574",
   "metadata": {},
   "outputs": [
    {
     "name": "stdout",
     "output_type": "stream",
     "text": [
      "Hola\n"
     ]
    }
   ],
   "source": [
    "print (\"Hola\")"
   ]
  },
  {
   "cell_type": "code",
   "execution_count": 36,
   "id": "c04e1099",
   "metadata": {},
   "outputs": [],
   "source": [
    "import sys"
   ]
  },
  {
   "cell_type": "markdown",
   "id": "7d546e97",
   "metadata": {},
   "source": [
    "#### Creando una lista"
   ]
  },
  {
   "cell_type": "code",
   "execution_count": 37,
   "id": "f711430c",
   "metadata": {},
   "outputs": [
    {
     "data": {
      "text/plain": [
       "[1, 2, 3, 4, 5, 6, 7, 8, 9, 10]"
      ]
     },
     "execution_count": 37,
     "metadata": {},
     "output_type": "execute_result"
    }
   ],
   "source": [
    "lista = list(range(1,11))\n",
    "lista"
   ]
  },
  {
   "cell_type": "markdown",
   "id": "adf568cc",
   "metadata": {},
   "source": [
    "Pasando de lista a un Array\n",
    "Array es una funcion de numpy"
   ]
  },
  {
   "cell_type": "code",
   "execution_count": 38,
   "id": "cc30acbc",
   "metadata": {},
   "outputs": [
    {
     "data": {
      "text/plain": [
       "array([ 1,  2,  3,  4,  5,  6,  7,  8,  9, 10])"
      ]
     },
     "execution_count": 38,
     "metadata": {},
     "output_type": "execute_result"
    }
   ],
   "source": [
    "arreglo = np.array(lista)\n",
    "arreglo"
   ]
  },
  {
   "cell_type": "markdown",
   "id": "90c1fe58",
   "metadata": {},
   "source": [
    "#### Crear una lista de solo numeros unos"
   ]
  },
  {
   "cell_type": "code",
   "execution_count": 39,
   "id": "86fc85c3",
   "metadata": {},
   "outputs": [
    {
     "data": {
      "text/plain": [
       "array([1., 1., 1., 1., 1., 1., 1., 1., 1., 1., 1., 1., 1., 1., 1., 1., 1.,\n",
       "       1., 1., 1., 1., 1., 1., 1.])"
      ]
     },
     "execution_count": 39,
     "metadata": {},
     "output_type": "execute_result"
    }
   ],
   "source": [
    "unos = np.ones(24)\n",
    "unos"
   ]
  },
  {
   "cell_type": "code",
   "execution_count": 40,
   "id": "c1855868",
   "metadata": {},
   "outputs": [
    {
     "data": {
      "text/plain": [
       "array([0., 0., 0., 0., 0., 0., 0., 0., 0., 0., 0., 0., 0., 0., 0., 0., 0.,\n",
       "       0., 0., 0., 0., 0., 0., 0., 0., 0., 0., 0., 0., 0., 0., 0., 0., 0.,\n",
       "       0., 0., 0., 0., 0., 0., 0., 0., 0., 0., 0., 0., 0., 0., 0., 0., 0.,\n",
       "       0., 0., 0., 0., 0., 0., 0., 0., 0., 0., 0., 0., 0., 0., 0., 0., 0.,\n",
       "       0., 0., 0., 0., 0., 0., 0., 0., 0., 0., 0., 0., 0., 0., 0., 0., 0.,\n",
       "       0., 0., 0., 0., 0., 0., 0., 0., 0., 0., 0., 0., 0., 0., 0.])"
      ]
     },
     "execution_count": 40,
     "metadata": {},
     "output_type": "execute_result"
    }
   ],
   "source": [
    "ceros = np.zeros(100)\n",
    "ceros"
   ]
  },
  {
   "cell_type": "code",
   "execution_count": 41,
   "id": "e3fb9043",
   "metadata": {},
   "outputs": [
    {
     "data": {
      "text/plain": [
       "numpy.ndarray"
      ]
     },
     "execution_count": 41,
     "metadata": {},
     "output_type": "execute_result"
    }
   ],
   "source": [
    "type(ceros)"
   ]
  },
  {
   "cell_type": "code",
   "execution_count": 42,
   "id": "f4dbba20",
   "metadata": {},
   "outputs": [
    {
     "data": {
      "text/plain": [
       "dtype('int64')"
      ]
     },
     "execution_count": 42,
     "metadata": {},
     "output_type": "execute_result"
    }
   ],
   "source": [
    "arreglo.dtype"
   ]
  },
  {
   "cell_type": "code",
   "execution_count": 43,
   "id": "06dfe967",
   "metadata": {},
   "outputs": [
    {
     "data": {
      "text/plain": [
       "['Ian', 22, True]"
      ]
     },
     "execution_count": 43,
     "metadata": {},
     "output_type": "execute_result"
    }
   ],
   "source": [
    "lista2 = [\"Ian\", 22, True]\n",
    "lista2"
   ]
  },
  {
   "cell_type": "code",
   "execution_count": 44,
   "id": "1c451d14",
   "metadata": {},
   "outputs": [
    {
     "data": {
      "text/plain": [
       "array(['Ian', '22', 'True'], dtype='<U21')"
      ]
     },
     "execution_count": 44,
     "metadata": {},
     "output_type": "execute_result"
    }
   ],
   "source": [
    "arreglo2 = np.array(lista2)\n",
    "arreglo2"
   ]
  },
  {
   "cell_type": "markdown",
   "id": "dd03cc51",
   "metadata": {},
   "source": [
    "### Consultando la cantidad de memoria ocupada"
   ]
  },
  {
   "cell_type": "code",
   "execution_count": 47,
   "id": "a837e725",
   "metadata": {},
   "outputs": [
    {
     "name": "stdout",
     "output_type": "stream",
     "text": [
      "Memoria ocupada por la lista: 136 bytes\n",
      "Memorua ocupada por el array: 80 bytes\n"
     ]
    }
   ],
   "source": [
    "memoria_lista = sys.getsizeof(lista)\n",
    "memoria_arreglo = arreglo.nbytes\n",
    "\n",
    "print(f\"Memoria ocupada por la lista: {memoria_lista} bytes\")\n",
    "print(f\"Memorua ocupada por el array: {memoria_arreglo} bytes\")"
   ]
  },
  {
   "cell_type": "markdown",
   "id": "4ca8f37c",
   "metadata": {},
   "source": [
    "### Promedio del arreglo"
   ]
  },
  {
   "cell_type": "code",
   "execution_count": 48,
   "id": "60f2b72a",
   "metadata": {},
   "outputs": [
    {
     "data": {
      "text/plain": [
       "np.float64(5.5)"
      ]
     },
     "execution_count": 48,
     "metadata": {},
     "output_type": "execute_result"
    }
   ],
   "source": [
    "promedio = np.mean(lista)\n",
    "promedio"
   ]
  },
  {
   "cell_type": "code",
   "execution_count": 50,
   "id": "df773658",
   "metadata": {},
   "outputs": [
    {
     "data": {
      "text/plain": [
       "array([ 1.,  2.,  3.,  4.,  5.,  6.,  7.,  8.,  9., 10.])"
      ]
     },
     "execution_count": 50,
     "metadata": {},
     "output_type": "execute_result"
    }
   ],
   "source": [
    "new_arreglo = arreglo.astype(np.float64)\n",
    "new_arreglo"
   ]
  },
  {
   "cell_type": "markdown",
   "id": "ae774a12",
   "metadata": {},
   "source": [
    "### Aplicando el paquete random\n",
    "\n",
    "Se genera una lista de numeros enteros aleatorios, que van desde el numero que le deseamos escoger"
   ]
  },
  {
   "cell_type": "code",
   "execution_count": 68,
   "id": "9e095471",
   "metadata": {},
   "outputs": [
    {
     "data": {
      "text/plain": [
       "6"
      ]
     },
     "execution_count": 68,
     "metadata": {},
     "output_type": "execute_result"
    }
   ],
   "source": [
    "np.random.randint(10)"
   ]
  },
  {
   "cell_type": "code",
   "execution_count": 79,
   "id": "ab55b831",
   "metadata": {},
   "outputs": [
    {
     "data": {
      "text/plain": [
       "48"
      ]
     },
     "execution_count": 79,
     "metadata": {},
     "output_type": "execute_result"
    }
   ],
   "source": [
    "np.random.randint(1,100)"
   ]
  },
  {
   "cell_type": "code",
   "execution_count": 80,
   "id": "8501b82a",
   "metadata": {},
   "outputs": [
    {
     "data": {
      "text/plain": [
       "array([[[0.30843673, 0.06102313, 0.84418143, 0.80421685],\n",
       "        [0.44665096, 0.28242252, 0.7352561 , 0.76532604],\n",
       "        [0.69145968, 0.77781139, 0.04748844, 0.25535047],\n",
       "        [0.23610394, 0.29670508, 0.59224209, 0.58207767],\n",
       "        [0.92437061, 0.10788844, 0.72143478, 0.5812764 ],\n",
       "        [0.4064796 , 0.05096862, 0.65574317, 0.76895397],\n",
       "        [0.83784523, 0.78902675, 0.78844844, 0.92236445],\n",
       "        [0.23740875, 0.9456734 , 0.24840289, 0.14571954],\n",
       "        [0.97759956, 0.32557521, 0.95809616, 0.62155025],\n",
       "        [0.9983631 , 0.84669411, 0.37605202, 0.56212319]]])"
      ]
     },
     "execution_count": 80,
     "metadata": {},
     "output_type": "execute_result"
    }
   ],
   "source": [
    "np.random.rand(1,10,4)"
   ]
  }
 ],
 "metadata": {
  "kernelspec": {
   "display_name": "Python 3",
   "language": "python",
   "name": "python3"
  },
  "language_info": {
   "codemirror_mode": {
    "name": "ipython",
    "version": 3
   },
   "file_extension": ".py",
   "mimetype": "text/x-python",
   "name": "python",
   "nbconvert_exporter": "python",
   "pygments_lexer": "ipython3",
   "version": "3.10.5"
  }
 },
 "nbformat": 4,
 "nbformat_minor": 5
}
