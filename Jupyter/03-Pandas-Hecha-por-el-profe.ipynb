{
  "cells": [
    {
      "cell_type": "markdown",
      "metadata": {
        "id": "hIGeXmOReqGf"
      },
      "source": [
        "#### **Importando Librerías**\n",
        "\n"
      ]
    },
    {
      "cell_type": "code",
      "execution_count": 2,
      "metadata": {
        "id": "qnrMLSMVeIgK"
      },
      "outputs": [],
      "source": [
        "import pandas as pd\n",
        "import numpy as np\n",
        "import matplotlib.pyplot as plt"
      ]
    },
    {
      "cell_type": "markdown",
      "metadata": {
        "id": "TmXvMdY7ejzz"
      },
      "source": [
        "#### **Montando Unidad de Google Drive**\n",
        "Este bloque de código es solo para usuario que utilicen Google Colab como entorno de desarrollo"
      ]
    },
    {
      "cell_type": "code",
      "execution_count": 3,
      "metadata": {
        "colab": {
          "base_uri": "https://localhost:8080/"
        },
        "id": "Hi44u-YveWKS",
        "outputId": "4a3bca02-5bd7-4901-a235-7129b3eac967"
      },
      "outputs": [],
      "source": [
        "#from google.colab import drive\n",
        "#drive.mount('/content/drive')"
      ]
    },
    {
      "cell_type": "markdown",
      "metadata": {
        "id": "9SU-XbBfenSA"
      },
      "source": []
    },
    {
      "cell_type": "markdown",
      "metadata": {
        "id": "1Fhp7F5PgwBe"
      },
      "source": [
        "### **Ruta del Dataset**"
      ]
    },
    {
      "cell_type": "code",
      "execution_count": 4,
      "metadata": {
        "id": "2rTxenG4ez8u"
      },
      "outputs": [],
      "source": [
        "ruta = \"Data/games.csv\""
      ]
    },
    {
      "cell_type": "code",
      "execution_count": 5,
      "metadata": {
        "id": "qlvfxFgReyhk"
      },
      "outputs": [],
      "source": [
        "datos = pd.read_csv(ruta, index_col='Id') #Aqui usamos pd.readcsv para leer el archivo, luego ponemos la ruta y despues la clave de index con una id"
      ]
    },
    {
      "cell_type": "code",
      "execution_count": 6,
      "metadata": {
        "colab": {
          "base_uri": "https://localhost:8080/",
          "height": 428
        },
        "id": "tD_0jqHqfUIN",
        "outputId": "830a25d4-87a8-4cff-f188-7145ce86a000"
      },
      "outputs": [
        {
          "data": {
            "text/html": [
              "<div>\n",
              "<style scoped>\n",
              "    .dataframe tbody tr th:only-of-type {\n",
              "        vertical-align: middle;\n",
              "    }\n",
              "\n",
              "    .dataframe tbody tr th {\n",
              "        vertical-align: top;\n",
              "    }\n",
              "\n",
              "    .dataframe thead th {\n",
              "        text-align: right;\n",
              "    }\n",
              "</style>\n",
              "<table border=\"1\" class=\"dataframe\">\n",
              "  <thead>\n",
              "    <tr style=\"text-align: right;\">\n",
              "      <th></th>\n",
              "      <th>Title</th>\n",
              "      <th>Release Date</th>\n",
              "      <th>Team</th>\n",
              "      <th>Rating</th>\n",
              "      <th>Times Listed</th>\n",
              "      <th>Number of Reviews</th>\n",
              "      <th>Genres</th>\n",
              "      <th>Summary</th>\n",
              "      <th>Reviews</th>\n",
              "      <th>Plays</th>\n",
              "      <th>Playing</th>\n",
              "      <th>Backlogs</th>\n",
              "      <th>Wishlist</th>\n",
              "    </tr>\n",
              "    <tr>\n",
              "      <th>Id</th>\n",
              "      <th></th>\n",
              "      <th></th>\n",
              "      <th></th>\n",
              "      <th></th>\n",
              "      <th></th>\n",
              "      <th></th>\n",
              "      <th></th>\n",
              "      <th></th>\n",
              "      <th></th>\n",
              "      <th></th>\n",
              "      <th></th>\n",
              "      <th></th>\n",
              "      <th></th>\n",
              "    </tr>\n",
              "  </thead>\n",
              "  <tbody>\n",
              "    <tr>\n",
              "      <th>0</th>\n",
              "      <td>Elden Ring</td>\n",
              "      <td>Feb 25, 2022</td>\n",
              "      <td>['Bandai Namco Entertainment', 'FromSoftware']</td>\n",
              "      <td>4.5</td>\n",
              "      <td>3.9K</td>\n",
              "      <td>3.9K</td>\n",
              "      <td>['Adventure', 'RPG']</td>\n",
              "      <td>Elden Ring is a fantasy, action and open world...</td>\n",
              "      <td>[\"The first playthrough of elden ring is one o...</td>\n",
              "      <td>17K</td>\n",
              "      <td>3.8K</td>\n",
              "      <td>4.6K</td>\n",
              "      <td>4.8K</td>\n",
              "    </tr>\n",
              "    <tr>\n",
              "      <th>1</th>\n",
              "      <td>Hades</td>\n",
              "      <td>Dec 10, 2019</td>\n",
              "      <td>['Supergiant Games']</td>\n",
              "      <td>4.3</td>\n",
              "      <td>2.9K</td>\n",
              "      <td>2.9K</td>\n",
              "      <td>['Adventure', 'Brawler', 'Indie', 'RPG']</td>\n",
              "      <td>A rogue-lite hack and slash dungeon crawler in...</td>\n",
              "      <td>['convinced this is a roguelike for people who...</td>\n",
              "      <td>21K</td>\n",
              "      <td>3.2K</td>\n",
              "      <td>6.3K</td>\n",
              "      <td>3.6K</td>\n",
              "    </tr>\n",
              "    <tr>\n",
              "      <th>2</th>\n",
              "      <td>The Legend of Zelda: Breath of the Wild</td>\n",
              "      <td>Mar 03, 2017</td>\n",
              "      <td>['Nintendo', 'Nintendo EPD Production Group No...</td>\n",
              "      <td>4.4</td>\n",
              "      <td>4.3K</td>\n",
              "      <td>4.3K</td>\n",
              "      <td>['Adventure', 'RPG']</td>\n",
              "      <td>The Legend of Zelda: Breath of the Wild is the...</td>\n",
              "      <td>['This game is the game (that is not CS:GO) th...</td>\n",
              "      <td>30K</td>\n",
              "      <td>2.5K</td>\n",
              "      <td>5K</td>\n",
              "      <td>2.6K</td>\n",
              "    </tr>\n",
              "    <tr>\n",
              "      <th>3</th>\n",
              "      <td>Undertale</td>\n",
              "      <td>Sep 15, 2015</td>\n",
              "      <td>['tobyfox', '8-4']</td>\n",
              "      <td>4.2</td>\n",
              "      <td>3.5K</td>\n",
              "      <td>3.5K</td>\n",
              "      <td>['Adventure', 'Indie', 'RPG', 'Turn Based Stra...</td>\n",
              "      <td>A small child falls into the Underground, wher...</td>\n",
              "      <td>['soundtrack is tied for #1 with nier automata...</td>\n",
              "      <td>28K</td>\n",
              "      <td>679</td>\n",
              "      <td>4.9K</td>\n",
              "      <td>1.8K</td>\n",
              "    </tr>\n",
              "    <tr>\n",
              "      <th>4</th>\n",
              "      <td>Hollow Knight</td>\n",
              "      <td>Feb 24, 2017</td>\n",
              "      <td>['Team Cherry']</td>\n",
              "      <td>4.4</td>\n",
              "      <td>3K</td>\n",
              "      <td>3K</td>\n",
              "      <td>['Adventure', 'Indie', 'Platform']</td>\n",
              "      <td>A 2D metroidvania with an emphasis on close co...</td>\n",
              "      <td>[\"this games worldbuilding is incredible, with...</td>\n",
              "      <td>21K</td>\n",
              "      <td>2.4K</td>\n",
              "      <td>8.3K</td>\n",
              "      <td>2.3K</td>\n",
              "    </tr>\n",
              "  </tbody>\n",
              "</table>\n",
              "</div>"
            ],
            "text/plain": [
              "                                      Title  Release Date  \\\n",
              "Id                                                          \n",
              "0                                Elden Ring  Feb 25, 2022   \n",
              "1                                     Hades  Dec 10, 2019   \n",
              "2   The Legend of Zelda: Breath of the Wild  Mar 03, 2017   \n",
              "3                                 Undertale  Sep 15, 2015   \n",
              "4                             Hollow Knight  Feb 24, 2017   \n",
              "\n",
              "                                                 Team  Rating Times Listed  \\\n",
              "Id                                                                           \n",
              "0      ['Bandai Namco Entertainment', 'FromSoftware']     4.5         3.9K   \n",
              "1                                ['Supergiant Games']     4.3         2.9K   \n",
              "2   ['Nintendo', 'Nintendo EPD Production Group No...     4.4         4.3K   \n",
              "3                                  ['tobyfox', '8-4']     4.2         3.5K   \n",
              "4                                     ['Team Cherry']     4.4           3K   \n",
              "\n",
              "   Number of Reviews                                             Genres  \\\n",
              "Id                                                                        \n",
              "0               3.9K                               ['Adventure', 'RPG']   \n",
              "1               2.9K           ['Adventure', 'Brawler', 'Indie', 'RPG']   \n",
              "2               4.3K                               ['Adventure', 'RPG']   \n",
              "3               3.5K  ['Adventure', 'Indie', 'RPG', 'Turn Based Stra...   \n",
              "4                 3K                 ['Adventure', 'Indie', 'Platform']   \n",
              "\n",
              "                                              Summary  \\\n",
              "Id                                                      \n",
              "0   Elden Ring is a fantasy, action and open world...   \n",
              "1   A rogue-lite hack and slash dungeon crawler in...   \n",
              "2   The Legend of Zelda: Breath of the Wild is the...   \n",
              "3   A small child falls into the Underground, wher...   \n",
              "4   A 2D metroidvania with an emphasis on close co...   \n",
              "\n",
              "                                              Reviews Plays Playing Backlogs  \\\n",
              "Id                                                                             \n",
              "0   [\"The first playthrough of elden ring is one o...   17K    3.8K     4.6K   \n",
              "1   ['convinced this is a roguelike for people who...   21K    3.2K     6.3K   \n",
              "2   ['This game is the game (that is not CS:GO) th...   30K    2.5K       5K   \n",
              "3   ['soundtrack is tied for #1 with nier automata...   28K     679     4.9K   \n",
              "4   [\"this games worldbuilding is incredible, with...   21K    2.4K     8.3K   \n",
              "\n",
              "   Wishlist  \n",
              "Id           \n",
              "0      4.8K  \n",
              "1      3.6K  \n",
              "2      2.6K  \n",
              "3      1.8K  \n",
              "4      2.3K  "
            ]
          },
          "execution_count": 6,
          "metadata": {},
          "output_type": "execute_result"
        }
      ],
      "source": [
        "datos.head() #Aqui imprimimos los valores"
      ]
    },
    {
      "cell_type": "markdown",
      "metadata": {
        "id": "glZrAwq0eKQG"
      },
      "source": [
        "<h4><b>DIMENSIÓN DEL DATASET</b></h4>\n"
      ]
    },
    {
      "cell_type": "code",
      "execution_count": 7,
      "metadata": {
        "colab": {
          "base_uri": "https://localhost:8080/"
        },
        "id": "GfLPHKeAeH2u",
        "outputId": "5e55613c-678b-4d21-94e0-d1f6290c2fcd"
      },
      "outputs": [
        {
          "name": "stdout",
          "output_type": "stream",
          "text": [
            "Cantidad de Filas y Columnas del Dataset: (1512, 13)\n"
          ]
        }
      ],
      "source": [
        "print(f'Cantidad de Filas y Columnas del Dataset: {datos.shape}') #Aqui con shape, identificamos las filas y columnas"
      ]
    },
    {
      "cell_type": "markdown",
      "metadata": {
        "id": "wk_YEvbOeOfC"
      },
      "source": [
        "<h4><b>MOSTRANDO INFORMACIÓN DEL DATASET</b></h4>"
      ]
    },
    {
      "cell_type": "code",
      "execution_count": 8,
      "metadata": {
        "colab": {
          "base_uri": "https://localhost:8080/"
        },
        "id": "s2O3kKBEeMTW",
        "outputId": "39a61f11-a4c7-4007-c067-bf1dff10b890"
      },
      "outputs": [
        {
          "name": "stdout",
          "output_type": "stream",
          "text": [
            "<class 'pandas.core.frame.DataFrame'>\n",
            "Index: 1512 entries, 0 to 1511\n",
            "Data columns (total 13 columns):\n",
            " #   Column             Non-Null Count  Dtype  \n",
            "---  ------             --------------  -----  \n",
            " 0   Title              1512 non-null   object \n",
            " 1   Release Date       1512 non-null   object \n",
            " 2   Team               1511 non-null   object \n",
            " 3   Rating             1499 non-null   float64\n",
            " 4   Times Listed       1512 non-null   object \n",
            " 5   Number of Reviews  1512 non-null   object \n",
            " 6   Genres             1512 non-null   object \n",
            " 7   Summary            1511 non-null   object \n",
            " 8   Reviews            1512 non-null   object \n",
            " 9   Plays              1512 non-null   object \n",
            " 10  Playing            1512 non-null   object \n",
            " 11  Backlogs           1512 non-null   object \n",
            " 12  Wishlist           1512 non-null   object \n",
            "dtypes: float64(1), object(12)\n",
            "memory usage: 165.4+ KB\n"
          ]
        }
      ],
      "source": [
        "datos.info()"
      ]
    },
    {
      "cell_type": "markdown",
      "metadata": {
        "id": "Wo94JeeTeaBV"
      },
      "source": [
        "<h4><b>ESTADÍSTICAS DESCRIPTIVAS DEL DATASET</b></h4>\n"
      ]
    },
    {
      "cell_type": "code",
      "execution_count": 9,
      "metadata": {
        "colab": {
          "base_uri": "https://localhost:8080/",
          "height": 300
        },
        "id": "JpPuk1r0eP6M",
        "outputId": "e0c9f7b3-32e6-46ed-889c-66a7e44a3c62"
      },
      "outputs": [
        {
          "data": {
            "text/html": [
              "<div>\n",
              "<style scoped>\n",
              "    .dataframe tbody tr th:only-of-type {\n",
              "        vertical-align: middle;\n",
              "    }\n",
              "\n",
              "    .dataframe tbody tr th {\n",
              "        vertical-align: top;\n",
              "    }\n",
              "\n",
              "    .dataframe thead th {\n",
              "        text-align: right;\n",
              "    }\n",
              "</style>\n",
              "<table border=\"1\" class=\"dataframe\">\n",
              "  <thead>\n",
              "    <tr style=\"text-align: right;\">\n",
              "      <th></th>\n",
              "      <th>Rating</th>\n",
              "    </tr>\n",
              "  </thead>\n",
              "  <tbody>\n",
              "    <tr>\n",
              "      <th>count</th>\n",
              "      <td>1499.000000</td>\n",
              "    </tr>\n",
              "    <tr>\n",
              "      <th>mean</th>\n",
              "      <td>3.719346</td>\n",
              "    </tr>\n",
              "    <tr>\n",
              "      <th>std</th>\n",
              "      <td>0.532608</td>\n",
              "    </tr>\n",
              "    <tr>\n",
              "      <th>min</th>\n",
              "      <td>0.700000</td>\n",
              "    </tr>\n",
              "    <tr>\n",
              "      <th>25%</th>\n",
              "      <td>3.400000</td>\n",
              "    </tr>\n",
              "    <tr>\n",
              "      <th>50%</th>\n",
              "      <td>3.800000</td>\n",
              "    </tr>\n",
              "    <tr>\n",
              "      <th>75%</th>\n",
              "      <td>4.100000</td>\n",
              "    </tr>\n",
              "    <tr>\n",
              "      <th>max</th>\n",
              "      <td>4.800000</td>\n",
              "    </tr>\n",
              "  </tbody>\n",
              "</table>\n",
              "</div>"
            ],
            "text/plain": [
              "            Rating\n",
              "count  1499.000000\n",
              "mean      3.719346\n",
              "std       0.532608\n",
              "min       0.700000\n",
              "25%       3.400000\n",
              "50%       3.800000\n",
              "75%       4.100000\n",
              "max       4.800000"
            ]
          },
          "execution_count": 9,
          "metadata": {},
          "output_type": "execute_result"
        }
      ],
      "source": [
        "datos.describe()"
      ]
    },
    {
      "cell_type": "markdown",
      "metadata": {
        "id": "jJLo_KuweeEN"
      },
      "source": [
        "<h4><b>MOSTRANDO LAS FILAS DE DATOS NULOS</b></h4>"
      ]
    },
    {
      "cell_type": "code",
      "execution_count": 10,
      "metadata": {
        "colab": {
          "base_uri": "https://localhost:8080/",
          "height": 455
        },
        "id": "BM38SIe8eco6",
        "outputId": "c402e0b1-7903-4316-f34b-6ca9a91f4e67"
      },
      "outputs": [
        {
          "data": {
            "text/html": [
              "<div>\n",
              "<style scoped>\n",
              "    .dataframe tbody tr th:only-of-type {\n",
              "        vertical-align: middle;\n",
              "    }\n",
              "\n",
              "    .dataframe tbody tr th {\n",
              "        vertical-align: top;\n",
              "    }\n",
              "\n",
              "    .dataframe thead th {\n",
              "        text-align: right;\n",
              "    }\n",
              "</style>\n",
              "<table border=\"1\" class=\"dataframe\">\n",
              "  <thead>\n",
              "    <tr style=\"text-align: right;\">\n",
              "      <th></th>\n",
              "      <th>Title</th>\n",
              "      <th>Release Date</th>\n",
              "      <th>Team</th>\n",
              "      <th>Rating</th>\n",
              "      <th>Times Listed</th>\n",
              "      <th>Number of Reviews</th>\n",
              "      <th>Genres</th>\n",
              "      <th>Summary</th>\n",
              "      <th>Reviews</th>\n",
              "      <th>Plays</th>\n",
              "      <th>Playing</th>\n",
              "      <th>Backlogs</th>\n",
              "      <th>Wishlist</th>\n",
              "    </tr>\n",
              "    <tr>\n",
              "      <th>Id</th>\n",
              "      <th></th>\n",
              "      <th></th>\n",
              "      <th></th>\n",
              "      <th></th>\n",
              "      <th></th>\n",
              "      <th></th>\n",
              "      <th></th>\n",
              "      <th></th>\n",
              "      <th></th>\n",
              "      <th></th>\n",
              "      <th></th>\n",
              "      <th></th>\n",
              "      <th></th>\n",
              "    </tr>\n",
              "  </thead>\n",
              "  <tbody>\n",
              "    <tr>\n",
              "      <th>0</th>\n",
              "      <td>False</td>\n",
              "      <td>False</td>\n",
              "      <td>False</td>\n",
              "      <td>False</td>\n",
              "      <td>False</td>\n",
              "      <td>False</td>\n",
              "      <td>False</td>\n",
              "      <td>False</td>\n",
              "      <td>False</td>\n",
              "      <td>False</td>\n",
              "      <td>False</td>\n",
              "      <td>False</td>\n",
              "      <td>False</td>\n",
              "    </tr>\n",
              "    <tr>\n",
              "      <th>1</th>\n",
              "      <td>False</td>\n",
              "      <td>False</td>\n",
              "      <td>False</td>\n",
              "      <td>False</td>\n",
              "      <td>False</td>\n",
              "      <td>False</td>\n",
              "      <td>False</td>\n",
              "      <td>False</td>\n",
              "      <td>False</td>\n",
              "      <td>False</td>\n",
              "      <td>False</td>\n",
              "      <td>False</td>\n",
              "      <td>False</td>\n",
              "    </tr>\n",
              "    <tr>\n",
              "      <th>2</th>\n",
              "      <td>False</td>\n",
              "      <td>False</td>\n",
              "      <td>False</td>\n",
              "      <td>False</td>\n",
              "      <td>False</td>\n",
              "      <td>False</td>\n",
              "      <td>False</td>\n",
              "      <td>False</td>\n",
              "      <td>False</td>\n",
              "      <td>False</td>\n",
              "      <td>False</td>\n",
              "      <td>False</td>\n",
              "      <td>False</td>\n",
              "    </tr>\n",
              "    <tr>\n",
              "      <th>3</th>\n",
              "      <td>False</td>\n",
              "      <td>False</td>\n",
              "      <td>False</td>\n",
              "      <td>False</td>\n",
              "      <td>False</td>\n",
              "      <td>False</td>\n",
              "      <td>False</td>\n",
              "      <td>False</td>\n",
              "      <td>False</td>\n",
              "      <td>False</td>\n",
              "      <td>False</td>\n",
              "      <td>False</td>\n",
              "      <td>False</td>\n",
              "    </tr>\n",
              "    <tr>\n",
              "      <th>4</th>\n",
              "      <td>False</td>\n",
              "      <td>False</td>\n",
              "      <td>False</td>\n",
              "      <td>False</td>\n",
              "      <td>False</td>\n",
              "      <td>False</td>\n",
              "      <td>False</td>\n",
              "      <td>False</td>\n",
              "      <td>False</td>\n",
              "      <td>False</td>\n",
              "      <td>False</td>\n",
              "      <td>False</td>\n",
              "      <td>False</td>\n",
              "    </tr>\n",
              "    <tr>\n",
              "      <th>...</th>\n",
              "      <td>...</td>\n",
              "      <td>...</td>\n",
              "      <td>...</td>\n",
              "      <td>...</td>\n",
              "      <td>...</td>\n",
              "      <td>...</td>\n",
              "      <td>...</td>\n",
              "      <td>...</td>\n",
              "      <td>...</td>\n",
              "      <td>...</td>\n",
              "      <td>...</td>\n",
              "      <td>...</td>\n",
              "      <td>...</td>\n",
              "    </tr>\n",
              "    <tr>\n",
              "      <th>1507</th>\n",
              "      <td>False</td>\n",
              "      <td>False</td>\n",
              "      <td>False</td>\n",
              "      <td>False</td>\n",
              "      <td>False</td>\n",
              "      <td>False</td>\n",
              "      <td>False</td>\n",
              "      <td>False</td>\n",
              "      <td>False</td>\n",
              "      <td>False</td>\n",
              "      <td>False</td>\n",
              "      <td>False</td>\n",
              "      <td>False</td>\n",
              "    </tr>\n",
              "    <tr>\n",
              "      <th>1508</th>\n",
              "      <td>False</td>\n",
              "      <td>False</td>\n",
              "      <td>False</td>\n",
              "      <td>False</td>\n",
              "      <td>False</td>\n",
              "      <td>False</td>\n",
              "      <td>False</td>\n",
              "      <td>False</td>\n",
              "      <td>False</td>\n",
              "      <td>False</td>\n",
              "      <td>False</td>\n",
              "      <td>False</td>\n",
              "      <td>False</td>\n",
              "    </tr>\n",
              "    <tr>\n",
              "      <th>1509</th>\n",
              "      <td>False</td>\n",
              "      <td>False</td>\n",
              "      <td>False</td>\n",
              "      <td>False</td>\n",
              "      <td>False</td>\n",
              "      <td>False</td>\n",
              "      <td>False</td>\n",
              "      <td>False</td>\n",
              "      <td>False</td>\n",
              "      <td>False</td>\n",
              "      <td>False</td>\n",
              "      <td>False</td>\n",
              "      <td>False</td>\n",
              "    </tr>\n",
              "    <tr>\n",
              "      <th>1510</th>\n",
              "      <td>False</td>\n",
              "      <td>False</td>\n",
              "      <td>False</td>\n",
              "      <td>False</td>\n",
              "      <td>False</td>\n",
              "      <td>False</td>\n",
              "      <td>False</td>\n",
              "      <td>False</td>\n",
              "      <td>False</td>\n",
              "      <td>False</td>\n",
              "      <td>False</td>\n",
              "      <td>False</td>\n",
              "      <td>False</td>\n",
              "    </tr>\n",
              "    <tr>\n",
              "      <th>1511</th>\n",
              "      <td>False</td>\n",
              "      <td>False</td>\n",
              "      <td>False</td>\n",
              "      <td>False</td>\n",
              "      <td>False</td>\n",
              "      <td>False</td>\n",
              "      <td>False</td>\n",
              "      <td>False</td>\n",
              "      <td>False</td>\n",
              "      <td>False</td>\n",
              "      <td>False</td>\n",
              "      <td>False</td>\n",
              "      <td>False</td>\n",
              "    </tr>\n",
              "  </tbody>\n",
              "</table>\n",
              "<p>1512 rows × 13 columns</p>\n",
              "</div>"
            ],
            "text/plain": [
              "      Title  Release Date   Team  Rating  Times Listed  Number of Reviews  \\\n",
              "Id                                                                          \n",
              "0     False         False  False   False         False              False   \n",
              "1     False         False  False   False         False              False   \n",
              "2     False         False  False   False         False              False   \n",
              "3     False         False  False   False         False              False   \n",
              "4     False         False  False   False         False              False   \n",
              "...     ...           ...    ...     ...           ...                ...   \n",
              "1507  False         False  False   False         False              False   \n",
              "1508  False         False  False   False         False              False   \n",
              "1509  False         False  False   False         False              False   \n",
              "1510  False         False  False   False         False              False   \n",
              "1511  False         False  False   False         False              False   \n",
              "\n",
              "      Genres  Summary  Reviews  Plays  Playing  Backlogs  Wishlist  \n",
              "Id                                                                  \n",
              "0      False    False    False  False    False     False     False  \n",
              "1      False    False    False  False    False     False     False  \n",
              "2      False    False    False  False    False     False     False  \n",
              "3      False    False    False  False    False     False     False  \n",
              "4      False    False    False  False    False     False     False  \n",
              "...      ...      ...      ...    ...      ...       ...       ...  \n",
              "1507   False    False    False  False    False     False     False  \n",
              "1508   False    False    False  False    False     False     False  \n",
              "1509   False    False    False  False    False     False     False  \n",
              "1510   False    False    False  False    False     False     False  \n",
              "1511   False    False    False  False    False     False     False  \n",
              "\n",
              "[1512 rows x 13 columns]"
            ]
          },
          "execution_count": 10,
          "metadata": {},
          "output_type": "execute_result"
        }
      ],
      "source": [
        "datos.isnull()"
      ]
    },
    {
      "cell_type": "markdown",
      "metadata": {
        "id": "_VuQ5Mpneh7l"
      },
      "source": [
        "<h4><b>IDENTIFICANDO LAS COLUMNAS CON DATOS NULOS</b></h4>\n"
      ]
    },
    {
      "cell_type": "code",
      "execution_count": 11,
      "metadata": {
        "id": "zB2kWt6_efs9"
      },
      "outputs": [
        {
          "data": {
            "text/plain": [
              "Title                False\n",
              "Release Date         False\n",
              "Team                  True\n",
              "Rating                True\n",
              "Times Listed         False\n",
              "Number of Reviews    False\n",
              "Genres               False\n",
              "Summary               True\n",
              "Reviews              False\n",
              "Plays                False\n",
              "Playing              False\n",
              "Backlogs             False\n",
              "Wishlist             False\n",
              "dtype: bool"
            ]
          },
          "execution_count": 11,
          "metadata": {},
          "output_type": "execute_result"
        }
      ],
      "source": [
        "datos.isnull().any() #Aqui con any podremos ver los datos nulos"
      ]
    },
    {
      "cell_type": "markdown",
      "metadata": {
        "id": "lzlXch_Geo4E"
      },
      "source": [
        "<h4><b>IDENTIFICANDO LAS FILAS EN ESPECIFICAS CON DATOS NULOS</b></h4>\n"
      ]
    },
    {
      "cell_type": "code",
      "execution_count": 12,
      "metadata": {
        "colab": {
          "base_uri": "https://localhost:8080/",
          "height": 1000
        },
        "id": "-GGYIALEejhU",
        "outputId": "61ecfe44-9c33-4dba-ba7f-e4612414c2a4"
      },
      "outputs": [
        {
          "data": {
            "text/html": [
              "<div>\n",
              "<style scoped>\n",
              "    .dataframe tbody tr th:only-of-type {\n",
              "        vertical-align: middle;\n",
              "    }\n",
              "\n",
              "    .dataframe tbody tr th {\n",
              "        vertical-align: top;\n",
              "    }\n",
              "\n",
              "    .dataframe thead th {\n",
              "        text-align: right;\n",
              "    }\n",
              "</style>\n",
              "<table border=\"1\" class=\"dataframe\">\n",
              "  <thead>\n",
              "    <tr style=\"text-align: right;\">\n",
              "      <th></th>\n",
              "      <th>Title</th>\n",
              "      <th>Release Date</th>\n",
              "      <th>Team</th>\n",
              "      <th>Rating</th>\n",
              "      <th>Times Listed</th>\n",
              "      <th>Number of Reviews</th>\n",
              "      <th>Genres</th>\n",
              "      <th>Summary</th>\n",
              "      <th>Reviews</th>\n",
              "      <th>Plays</th>\n",
              "      <th>Playing</th>\n",
              "      <th>Backlogs</th>\n",
              "      <th>Wishlist</th>\n",
              "    </tr>\n",
              "    <tr>\n",
              "      <th>Id</th>\n",
              "      <th></th>\n",
              "      <th></th>\n",
              "      <th></th>\n",
              "      <th></th>\n",
              "      <th></th>\n",
              "      <th></th>\n",
              "      <th></th>\n",
              "      <th></th>\n",
              "      <th></th>\n",
              "      <th></th>\n",
              "      <th></th>\n",
              "      <th></th>\n",
              "      <th></th>\n",
              "    </tr>\n",
              "  </thead>\n",
              "  <tbody>\n",
              "    <tr>\n",
              "      <th>587</th>\n",
              "      <td>Final Fantasy XVI</td>\n",
              "      <td>Jun 22, 2023</td>\n",
              "      <td>['Square Enix', 'Square Enix Creative Business...</td>\n",
              "      <td>NaN</td>\n",
              "      <td>422</td>\n",
              "      <td>422</td>\n",
              "      <td>['RPG']</td>\n",
              "      <td>Final Fantasy XVI is an upcoming action role-p...</td>\n",
              "      <td>[]</td>\n",
              "      <td>37</td>\n",
              "      <td>10</td>\n",
              "      <td>732</td>\n",
              "      <td>2.4K</td>\n",
              "    </tr>\n",
              "    <tr>\n",
              "      <th>649</th>\n",
              "      <td>Death Stranding 2</td>\n",
              "      <td>releases on TBD</td>\n",
              "      <td>['Kojima Productions']</td>\n",
              "      <td>NaN</td>\n",
              "      <td>105</td>\n",
              "      <td>105</td>\n",
              "      <td>['Adventure', 'Shooter']</td>\n",
              "      <td>NaN</td>\n",
              "      <td>[]</td>\n",
              "      <td>3</td>\n",
              "      <td>0</td>\n",
              "      <td>209</td>\n",
              "      <td>644</td>\n",
              "    </tr>\n",
              "    <tr>\n",
              "      <th>713</th>\n",
              "      <td>Final Fantasy VII Rebirth</td>\n",
              "      <td>Dec 31, 2023</td>\n",
              "      <td>['Square Enix']</td>\n",
              "      <td>NaN</td>\n",
              "      <td>192</td>\n",
              "      <td>192</td>\n",
              "      <td>[]</td>\n",
              "      <td>This next standalone chapter in the FINAL FANT...</td>\n",
              "      <td>[]</td>\n",
              "      <td>20</td>\n",
              "      <td>3</td>\n",
              "      <td>354</td>\n",
              "      <td>1.1K</td>\n",
              "    </tr>\n",
              "    <tr>\n",
              "      <th>719</th>\n",
              "      <td>Lies of P</td>\n",
              "      <td>Aug 01, 2023</td>\n",
              "      <td>['NEOWIZ', 'Round8 Studio']</td>\n",
              "      <td>NaN</td>\n",
              "      <td>175</td>\n",
              "      <td>175</td>\n",
              "      <td>['RPG']</td>\n",
              "      <td>Inspired by the familiar story of Pinocchio, L...</td>\n",
              "      <td>[]</td>\n",
              "      <td>5</td>\n",
              "      <td>0</td>\n",
              "      <td>260</td>\n",
              "      <td>939</td>\n",
              "    </tr>\n",
              "    <tr>\n",
              "      <th>726</th>\n",
              "      <td>Judas</td>\n",
              "      <td>Mar 31, 2025</td>\n",
              "      <td>['Ghost Story Games']</td>\n",
              "      <td>NaN</td>\n",
              "      <td>90</td>\n",
              "      <td>90</td>\n",
              "      <td>['Adventure', 'Shooter']</td>\n",
              "      <td>A disintegrating starship. A desperate escape ...</td>\n",
              "      <td>[]</td>\n",
              "      <td>1</td>\n",
              "      <td>0</td>\n",
              "      <td>92</td>\n",
              "      <td>437</td>\n",
              "    </tr>\n",
              "    <tr>\n",
              "      <th>746</th>\n",
              "      <td>Like a Dragon Gaiden: The Man Who Erased His Name</td>\n",
              "      <td>Dec 31, 2023</td>\n",
              "      <td>['Ryū Ga Gotoku Studios', 'Sega']</td>\n",
              "      <td>NaN</td>\n",
              "      <td>118</td>\n",
              "      <td>118</td>\n",
              "      <td>['Adventure', 'Brawler', 'RPG']</td>\n",
              "      <td>This game covers Kiryu's story between Yakuza ...</td>\n",
              "      <td>[]</td>\n",
              "      <td>2</td>\n",
              "      <td>1</td>\n",
              "      <td>145</td>\n",
              "      <td>588</td>\n",
              "    </tr>\n",
              "    <tr>\n",
              "      <th>972</th>\n",
              "      <td>The Legend of Zelda: Tears of the Kingdom</td>\n",
              "      <td>May 12, 2023</td>\n",
              "      <td>['Nintendo', 'Nintendo EPD Production Group No...</td>\n",
              "      <td>NaN</td>\n",
              "      <td>581</td>\n",
              "      <td>581</td>\n",
              "      <td>['Adventure', 'RPG']</td>\n",
              "      <td>The Legend of Zelda: Tears of the Kingdom is t...</td>\n",
              "      <td>[]</td>\n",
              "      <td>72</td>\n",
              "      <td>6</td>\n",
              "      <td>1.6K</td>\n",
              "      <td>5.4K</td>\n",
              "    </tr>\n",
              "    <tr>\n",
              "      <th>1130</th>\n",
              "      <td>Star Wars Jedi: Survivor</td>\n",
              "      <td>Apr 28, 2023</td>\n",
              "      <td>['Respawn Entertainment', 'Electronic Arts']</td>\n",
              "      <td>NaN</td>\n",
              "      <td>250</td>\n",
              "      <td>250</td>\n",
              "      <td>['Adventure']</td>\n",
              "      <td>The story of Cal Kestis continues in Star Wars...</td>\n",
              "      <td>[]</td>\n",
              "      <td>13</td>\n",
              "      <td>2</td>\n",
              "      <td>367</td>\n",
              "      <td>1.4K</td>\n",
              "    </tr>\n",
              "    <tr>\n",
              "      <th>1160</th>\n",
              "      <td>We Love Katamari Reroll + Royal Reverie</td>\n",
              "      <td>Jun 02, 2023</td>\n",
              "      <td>['Bandai Namco Entertainment', 'MONKEYCRAFT Co...</td>\n",
              "      <td>NaN</td>\n",
              "      <td>51</td>\n",
              "      <td>51</td>\n",
              "      <td>['Adventure', 'Puzzle']</td>\n",
              "      <td>We Love Katamari Reroll + Royal Reverie is a r...</td>\n",
              "      <td>[]</td>\n",
              "      <td>3</td>\n",
              "      <td>0</td>\n",
              "      <td>74</td>\n",
              "      <td>291</td>\n",
              "    </tr>\n",
              "    <tr>\n",
              "      <th>1202</th>\n",
              "      <td>Earthblade</td>\n",
              "      <td>Dec 31, 2024</td>\n",
              "      <td>['Extremely OK Games']</td>\n",
              "      <td>NaN</td>\n",
              "      <td>83</td>\n",
              "      <td>83</td>\n",
              "      <td>['Adventure', 'Indie', 'RPG']</td>\n",
              "      <td>You are Névoa, an enigmatic child of Fate retu...</td>\n",
              "      <td>[]</td>\n",
              "      <td>0</td>\n",
              "      <td>1</td>\n",
              "      <td>103</td>\n",
              "      <td>529</td>\n",
              "    </tr>\n",
              "    <tr>\n",
              "      <th>1245</th>\n",
              "      <td>NEET Girl Date Night</td>\n",
              "      <td>Oct 21, 2022</td>\n",
              "      <td>NaN</td>\n",
              "      <td>2.7</td>\n",
              "      <td>21</td>\n",
              "      <td>21</td>\n",
              "      <td>['Visual Novel']</td>\n",
              "      <td>Your friend sets you up on a date with his NEE...</td>\n",
              "      <td>['this sucked. \"Omg she is literally me\" is no...</td>\n",
              "      <td>106</td>\n",
              "      <td>1</td>\n",
              "      <td>44</td>\n",
              "      <td>42</td>\n",
              "    </tr>\n",
              "    <tr>\n",
              "      <th>1305</th>\n",
              "      <td>Diablo IV</td>\n",
              "      <td>Jun 06, 2023</td>\n",
              "      <td>['Blizzard Entertainment']</td>\n",
              "      <td>NaN</td>\n",
              "      <td>148</td>\n",
              "      <td>148</td>\n",
              "      <td>['Brawler', 'RPG']</td>\n",
              "      <td>Endless demons to slaughter. Deep customizatio...</td>\n",
              "      <td>[]</td>\n",
              "      <td>19</td>\n",
              "      <td>10</td>\n",
              "      <td>179</td>\n",
              "      <td>677</td>\n",
              "    </tr>\n",
              "    <tr>\n",
              "      <th>1341</th>\n",
              "      <td>Pac-Man in a Tin</td>\n",
              "      <td>Mar 22, 2023</td>\n",
              "      <td>['Fizz Creations']</td>\n",
              "      <td>NaN</td>\n",
              "      <td>0</td>\n",
              "      <td>0</td>\n",
              "      <td>['Arcade']</td>\n",
              "      <td>Pac-Man in a Tin is a pocket-sized tin contain...</td>\n",
              "      <td>[]</td>\n",
              "      <td>1</td>\n",
              "      <td>0</td>\n",
              "      <td>1</td>\n",
              "      <td>2</td>\n",
              "    </tr>\n",
              "    <tr>\n",
              "      <th>1349</th>\n",
              "      <td>Pokémon Añil</td>\n",
              "      <td>Mar 23, 2023</td>\n",
              "      <td>['Eric Lost']</td>\n",
              "      <td>NaN</td>\n",
              "      <td>2</td>\n",
              "      <td>2</td>\n",
              "      <td>['RPG']</td>\n",
              "      <td>Pokémon Añil is the fourth video game created ...</td>\n",
              "      <td>['pokemon HWHAT', 'Finally, after all these ye...</td>\n",
              "      <td>1</td>\n",
              "      <td>0</td>\n",
              "      <td>1</td>\n",
              "      <td>7</td>\n",
              "    </tr>\n",
              "  </tbody>\n",
              "</table>\n",
              "</div>"
            ],
            "text/plain": [
              "                                                  Title     Release Date  \\\n",
              "Id                                                                         \n",
              "587                                   Final Fantasy XVI     Jun 22, 2023   \n",
              "649                                   Death Stranding 2  releases on TBD   \n",
              "713                           Final Fantasy VII Rebirth     Dec 31, 2023   \n",
              "719                                           Lies of P     Aug 01, 2023   \n",
              "726                                               Judas     Mar 31, 2025   \n",
              "746   Like a Dragon Gaiden: The Man Who Erased His Name     Dec 31, 2023   \n",
              "972           The Legend of Zelda: Tears of the Kingdom     May 12, 2023   \n",
              "1130                           Star Wars Jedi: Survivor     Apr 28, 2023   \n",
              "1160            We Love Katamari Reroll + Royal Reverie     Jun 02, 2023   \n",
              "1202                                         Earthblade     Dec 31, 2024   \n",
              "1245                               NEET Girl Date Night     Oct 21, 2022   \n",
              "1305                                          Diablo IV     Jun 06, 2023   \n",
              "1341                                   Pac-Man in a Tin     Mar 22, 2023   \n",
              "1349                                       Pokémon Añil     Mar 23, 2023   \n",
              "\n",
              "                                                   Team  Rating Times Listed  \\\n",
              "Id                                                                             \n",
              "587   ['Square Enix', 'Square Enix Creative Business...     NaN          422   \n",
              "649                              ['Kojima Productions']     NaN          105   \n",
              "713                                     ['Square Enix']     NaN          192   \n",
              "719                         ['NEOWIZ', 'Round8 Studio']     NaN          175   \n",
              "726                               ['Ghost Story Games']     NaN           90   \n",
              "746                   ['Ryū Ga Gotoku Studios', 'Sega']     NaN          118   \n",
              "972   ['Nintendo', 'Nintendo EPD Production Group No...     NaN          581   \n",
              "1130       ['Respawn Entertainment', 'Electronic Arts']     NaN          250   \n",
              "1160  ['Bandai Namco Entertainment', 'MONKEYCRAFT Co...     NaN           51   \n",
              "1202                             ['Extremely OK Games']     NaN           83   \n",
              "1245                                                NaN     2.7           21   \n",
              "1305                         ['Blizzard Entertainment']     NaN          148   \n",
              "1341                                 ['Fizz Creations']     NaN            0   \n",
              "1349                                      ['Eric Lost']     NaN            2   \n",
              "\n",
              "     Number of Reviews                           Genres  \\\n",
              "Id                                                        \n",
              "587                422                          ['RPG']   \n",
              "649                105         ['Adventure', 'Shooter']   \n",
              "713                192                               []   \n",
              "719                175                          ['RPG']   \n",
              "726                 90         ['Adventure', 'Shooter']   \n",
              "746                118  ['Adventure', 'Brawler', 'RPG']   \n",
              "972                581             ['Adventure', 'RPG']   \n",
              "1130               250                    ['Adventure']   \n",
              "1160                51          ['Adventure', 'Puzzle']   \n",
              "1202                83    ['Adventure', 'Indie', 'RPG']   \n",
              "1245                21                 ['Visual Novel']   \n",
              "1305               148               ['Brawler', 'RPG']   \n",
              "1341                 0                       ['Arcade']   \n",
              "1349                 2                          ['RPG']   \n",
              "\n",
              "                                                Summary  \\\n",
              "Id                                                        \n",
              "587   Final Fantasy XVI is an upcoming action role-p...   \n",
              "649                                                 NaN   \n",
              "713   This next standalone chapter in the FINAL FANT...   \n",
              "719   Inspired by the familiar story of Pinocchio, L...   \n",
              "726   A disintegrating starship. A desperate escape ...   \n",
              "746   This game covers Kiryu's story between Yakuza ...   \n",
              "972   The Legend of Zelda: Tears of the Kingdom is t...   \n",
              "1130  The story of Cal Kestis continues in Star Wars...   \n",
              "1160  We Love Katamari Reroll + Royal Reverie is a r...   \n",
              "1202  You are Névoa, an enigmatic child of Fate retu...   \n",
              "1245  Your friend sets you up on a date with his NEE...   \n",
              "1305  Endless demons to slaughter. Deep customizatio...   \n",
              "1341  Pac-Man in a Tin is a pocket-sized tin contain...   \n",
              "1349  Pokémon Añil is the fourth video game created ...   \n",
              "\n",
              "                                                Reviews Plays Playing  \\\n",
              "Id                                                                      \n",
              "587                                                  []    37      10   \n",
              "649                                                  []     3       0   \n",
              "713                                                  []    20       3   \n",
              "719                                                  []     5       0   \n",
              "726                                                  []     1       0   \n",
              "746                                                  []     2       1   \n",
              "972                                                  []    72       6   \n",
              "1130                                                 []    13       2   \n",
              "1160                                                 []     3       0   \n",
              "1202                                                 []     0       1   \n",
              "1245  ['this sucked. \"Omg she is literally me\" is no...   106       1   \n",
              "1305                                                 []    19      10   \n",
              "1341                                                 []     1       0   \n",
              "1349  ['pokemon HWHAT', 'Finally, after all these ye...     1       0   \n",
              "\n",
              "     Backlogs Wishlist  \n",
              "Id                      \n",
              "587       732     2.4K  \n",
              "649       209      644  \n",
              "713       354     1.1K  \n",
              "719       260      939  \n",
              "726        92      437  \n",
              "746       145      588  \n",
              "972      1.6K     5.4K  \n",
              "1130      367     1.4K  \n",
              "1160       74      291  \n",
              "1202      103      529  \n",
              "1245       44       42  \n",
              "1305      179      677  \n",
              "1341        1        2  \n",
              "1349        1        7  "
            ]
          },
          "execution_count": 12,
          "metadata": {},
          "output_type": "execute_result"
        }
      ],
      "source": [
        "# Filtrar las filas que contienen valores nulos\n",
        "filas_nulas = datos[datos.isnull().any(axis=1)] #Axis=0 eje vertical, axis=1 horizontal\n",
        "\n",
        "filas_nulas\n"
      ]
    },
    {
      "cell_type": "markdown",
      "metadata": {
        "id": "WHSCsbo1exTe"
      },
      "source": [
        "<h4><b>ELIMINANDO LOS DATOS NULOS DEL DATASET</b></h4>\n"
      ]
    },
    {
      "cell_type": "code",
      "execution_count": 13,
      "metadata": {
        "colab": {
          "base_uri": "https://localhost:8080/"
        },
        "id": "qz46NlOYet-j",
        "outputId": "7d868bda-b6a8-46ec-97ba-cd54ef8894c8"
      },
      "outputs": [
        {
          "name": "stdout",
          "output_type": "stream",
          "text": [
            "<class 'pandas.core.frame.DataFrame'>\n",
            "Index: 1498 entries, 0 to 1511\n",
            "Data columns (total 13 columns):\n",
            " #   Column             Non-Null Count  Dtype  \n",
            "---  ------             --------------  -----  \n",
            " 0   Title              1498 non-null   object \n",
            " 1   Release Date       1498 non-null   object \n",
            " 2   Team               1498 non-null   object \n",
            " 3   Rating             1498 non-null   float64\n",
            " 4   Times Listed       1498 non-null   object \n",
            " 5   Number of Reviews  1498 non-null   object \n",
            " 6   Genres             1498 non-null   object \n",
            " 7   Summary            1498 non-null   object \n",
            " 8   Reviews            1498 non-null   object \n",
            " 9   Plays              1498 non-null   object \n",
            " 10  Playing            1498 non-null   object \n",
            " 11  Backlogs           1498 non-null   object \n",
            " 12  Wishlist           1498 non-null   object \n",
            "dtypes: float64(1), object(12)\n",
            "memory usage: 163.8+ KB\n"
          ]
        }
      ],
      "source": [
        "data_sin_nulos = datos.dropna() #elimina filas nulas\n",
        "data_sin_nulos.info()"
      ]
    },
    {
      "cell_type": "markdown",
      "metadata": {
        "id": "c9jovoOse0rP"
      },
      "source": [
        "<h4><b>FUNCIÓN PARA VERIFICAR SI EL GENERO RPG ESTÁ PRESENTE EN EL DATASET</b></h4>"
      ]
    },
    {
      "cell_type": "code",
      "execution_count": 14,
      "metadata": {
        "id": "CjEr7swve1Je"
      },
      "outputs": [],
      "source": [
        "def filtro_rpg(genres):\n",
        "    return 'RPG' in genres\n",
        "\n",
        "#Se aplica el filtro utilizando apply\n",
        "datosRPG = datos[datos['Genres'].apply(filtro_rpg)]"
      ]
    },
    {
      "cell_type": "markdown",
      "metadata": {
        "id": "GLZuHYrge4oP"
      },
      "source": [
        "#### **TRANSFORMACIÓN DE DATASET: MUESTRA 2 COLUMNAS DE DATOS (SOLO JUEGOS RPG)**"
      ]
    },
    {
      "cell_type": "code",
      "execution_count": 15,
      "metadata": {
        "colab": {
          "base_uri": "https://localhost:8080/",
          "height": 237
        },
        "id": "0VtCPvfme5JZ",
        "outputId": "a59841d7-92fc-4658-e0bf-0e97eb949f49"
      },
      "outputs": [
        {
          "data": {
            "text/html": [
              "<div>\n",
              "<style scoped>\n",
              "    .dataframe tbody tr th:only-of-type {\n",
              "        vertical-align: middle;\n",
              "    }\n",
              "\n",
              "    .dataframe tbody tr th {\n",
              "        vertical-align: top;\n",
              "    }\n",
              "\n",
              "    .dataframe thead th {\n",
              "        text-align: right;\n",
              "    }\n",
              "</style>\n",
              "<table border=\"1\" class=\"dataframe\">\n",
              "  <thead>\n",
              "    <tr style=\"text-align: right;\">\n",
              "      <th></th>\n",
              "      <th>Title</th>\n",
              "      <th>Rating</th>\n",
              "    </tr>\n",
              "    <tr>\n",
              "      <th>Id</th>\n",
              "      <th></th>\n",
              "      <th></th>\n",
              "    </tr>\n",
              "  </thead>\n",
              "  <tbody>\n",
              "    <tr>\n",
              "      <th>0</th>\n",
              "      <td>Elden Ring</td>\n",
              "      <td>4.5</td>\n",
              "    </tr>\n",
              "    <tr>\n",
              "      <th>1</th>\n",
              "      <td>Hades</td>\n",
              "      <td>4.3</td>\n",
              "    </tr>\n",
              "    <tr>\n",
              "      <th>2</th>\n",
              "      <td>The Legend of Zelda: Breath of the Wild</td>\n",
              "      <td>4.4</td>\n",
              "    </tr>\n",
              "    <tr>\n",
              "      <th>3</th>\n",
              "      <td>Undertale</td>\n",
              "      <td>4.2</td>\n",
              "    </tr>\n",
              "    <tr>\n",
              "      <th>6</th>\n",
              "      <td>Omori</td>\n",
              "      <td>4.2</td>\n",
              "    </tr>\n",
              "  </tbody>\n",
              "</table>\n",
              "</div>"
            ],
            "text/plain": [
              "                                      Title  Rating\n",
              "Id                                                 \n",
              "0                                Elden Ring     4.5\n",
              "1                                     Hades     4.3\n",
              "2   The Legend of Zelda: Breath of the Wild     4.4\n",
              "3                                 Undertale     4.2\n",
              "6                                     Omori     4.2"
            ]
          },
          "execution_count": 15,
          "metadata": {},
          "output_type": "execute_result"
        }
      ],
      "source": [
        "#Muestra el dataset solamente incluyendo la columnas Titulo y Ranting\n",
        "nombresRPG = datosRPG[['Title', 'Rating']]\n",
        "nombresRPG.head()"
      ]
    },
    {
      "cell_type": "markdown",
      "metadata": {
        "id": "-EmdpLs5e9yA"
      },
      "source": [
        "<h4><b>INFORMACIÓN DEL DATASET YA FILTRADO</b></h4>"
      ]
    },
    {
      "cell_type": "code",
      "execution_count": 16,
      "metadata": {
        "colab": {
          "base_uri": "https://localhost:8080/"
        },
        "id": "IeborXfle-Ou",
        "outputId": "d274cabb-0284-42e6-fa6f-c6d6c5dd9c6f"
      },
      "outputs": [
        {
          "name": "stdout",
          "output_type": "stream",
          "text": [
            "<class 'pandas.core.frame.DataFrame'>\n",
            "Index: 523 entries, 0 to 1510\n",
            "Data columns (total 2 columns):\n",
            " #   Column  Non-Null Count  Dtype  \n",
            "---  ------  --------------  -----  \n",
            " 0   Title   523 non-null    object \n",
            " 1   Rating  516 non-null    float64\n",
            "dtypes: float64(1), object(1)\n",
            "memory usage: 12.3+ KB\n"
          ]
        }
      ],
      "source": [
        "nombresRPG.info()"
      ]
    },
    {
      "cell_type": "markdown",
      "metadata": {
        "id": "UqY3wdUbe__N"
      },
      "source": [
        "<h4><b>IDENTIFICANDO SI EXISTEN DATOS NULOS EN EL NUEVO DATAFRAME</b></h4>"
      ]
    },
    {
      "cell_type": "code",
      "execution_count": 17,
      "metadata": {
        "colab": {
          "base_uri": "https://localhost:8080/",
          "height": 455
        },
        "id": "YQptpxbyfBiW",
        "outputId": "3e277897-285a-4808-d9a0-06feed8bbc23"
      },
      "outputs": [
        {
          "data": {
            "text/html": [
              "<div>\n",
              "<style scoped>\n",
              "    .dataframe tbody tr th:only-of-type {\n",
              "        vertical-align: middle;\n",
              "    }\n",
              "\n",
              "    .dataframe tbody tr th {\n",
              "        vertical-align: top;\n",
              "    }\n",
              "\n",
              "    .dataframe thead th {\n",
              "        text-align: right;\n",
              "    }\n",
              "</style>\n",
              "<table border=\"1\" class=\"dataframe\">\n",
              "  <thead>\n",
              "    <tr style=\"text-align: right;\">\n",
              "      <th></th>\n",
              "      <th>Title</th>\n",
              "      <th>Rating</th>\n",
              "    </tr>\n",
              "    <tr>\n",
              "      <th>Id</th>\n",
              "      <th></th>\n",
              "      <th></th>\n",
              "    </tr>\n",
              "  </thead>\n",
              "  <tbody>\n",
              "    <tr>\n",
              "      <th>0</th>\n",
              "      <td>False</td>\n",
              "      <td>False</td>\n",
              "    </tr>\n",
              "    <tr>\n",
              "      <th>1</th>\n",
              "      <td>False</td>\n",
              "      <td>False</td>\n",
              "    </tr>\n",
              "    <tr>\n",
              "      <th>2</th>\n",
              "      <td>False</td>\n",
              "      <td>False</td>\n",
              "    </tr>\n",
              "    <tr>\n",
              "      <th>3</th>\n",
              "      <td>False</td>\n",
              "      <td>False</td>\n",
              "    </tr>\n",
              "    <tr>\n",
              "      <th>6</th>\n",
              "      <td>False</td>\n",
              "      <td>False</td>\n",
              "    </tr>\n",
              "    <tr>\n",
              "      <th>...</th>\n",
              "      <td>...</td>\n",
              "      <td>...</td>\n",
              "    </tr>\n",
              "    <tr>\n",
              "      <th>1487</th>\n",
              "      <td>False</td>\n",
              "      <td>False</td>\n",
              "    </tr>\n",
              "    <tr>\n",
              "      <th>1489</th>\n",
              "      <td>False</td>\n",
              "      <td>False</td>\n",
              "    </tr>\n",
              "    <tr>\n",
              "      <th>1500</th>\n",
              "      <td>False</td>\n",
              "      <td>False</td>\n",
              "    </tr>\n",
              "    <tr>\n",
              "      <th>1509</th>\n",
              "      <td>False</td>\n",
              "      <td>False</td>\n",
              "    </tr>\n",
              "    <tr>\n",
              "      <th>1510</th>\n",
              "      <td>False</td>\n",
              "      <td>False</td>\n",
              "    </tr>\n",
              "  </tbody>\n",
              "</table>\n",
              "<p>523 rows × 2 columns</p>\n",
              "</div>"
            ],
            "text/plain": [
              "      Title  Rating\n",
              "Id                 \n",
              "0     False   False\n",
              "1     False   False\n",
              "2     False   False\n",
              "3     False   False\n",
              "6     False   False\n",
              "...     ...     ...\n",
              "1487  False   False\n",
              "1489  False   False\n",
              "1500  False   False\n",
              "1509  False   False\n",
              "1510  False   False\n",
              "\n",
              "[523 rows x 2 columns]"
            ]
          },
          "execution_count": 17,
          "metadata": {},
          "output_type": "execute_result"
        }
      ],
      "source": [
        "nombresRPG.isnull()"
      ]
    },
    {
      "cell_type": "markdown",
      "metadata": {
        "id": "k2_24srkfFoZ"
      },
      "source": [
        "<h4><b>MOSTRANDO LOS PRIMEROS 10 VIDEOJUEGOS RPG Y SU RATING DE POPULARIDAD (EJEMPLO INCORRECTO)</b></h4>"
      ]
    },
    {
      "cell_type": "code",
      "execution_count": 18,
      "metadata": {
        "colab": {
          "base_uri": "https://localhost:8080/",
          "height": 470
        },
        "id": "QHduKQcUfGE_",
        "outputId": "9443d747-9252-41b3-9bab-630f59738973"
      },
      "outputs": [
        {
          "data": {
            "text/plain": [
              "<Axes: xlabel='Id'>"
            ]
          },
          "execution_count": 18,
          "metadata": {},
          "output_type": "execute_result"
        },
        {
          "data": {
            "image/png": "[encoded data removed]",
            "text/plain": [
              "<Figure size 640x480 with 1 Axes>"
            ]
          },
          "metadata": {},
          "output_type": "display_data"
        }
      ],
      "source": [
        "datasetRPG = nombresRPG.head(10)\n",
        "#No es lo optimo\n",
        "datasetRPG.drop(['Title'],axis=1)['Rating'].plot(kind='bar')"
      ]
    },
    {
      "cell_type": "markdown",
      "metadata": {
        "id": "UE5D3Q17fKE7"
      },
      "source": [
        "<h4><b>MOSTRANDO LOS PRIMEROS 10 VIDEOJUEGOS RATING CON SU TITULO CORRESPONDIENTE</b></h4>"
      ]
    },
    {
      "cell_type": "code",
      "execution_count": 19,
      "metadata": {
        "colab": {
          "base_uri": "https://localhost:8080/",
          "height": 730
        },
        "id": "Nnv2PQSCfKbx",
        "outputId": "f4e00e57-dc0e-487e-9257-1d2a3958e2f0"
      },
      "outputs": [
        {
          "data": {
            "text/plain": [
              "<Axes: xlabel='Title'>"
            ]
          },
          "execution_count": 19,
          "metadata": {},
          "output_type": "execute_result"
        },
        {
          "data": {
            "image/png": "[encoded data removed]",
            "text/plain": [
              "<Figure size 640x480 with 1 Axes>"
            ]
          },
          "metadata": {},
          "output_type": "display_data"
        }
      ],
      "source": [
        "datasetRPG = nombresRPG.head(10)\n",
        "datasetRPG.set_index('Title', inplace=True)  # Establecer la columna 'Title' como índice\n",
        "datasetRPG['Rating'].plot(x=None, kind='bar')  # Utilizar el índice en el eje x\n"
      ]
    },
    {
      "cell_type": "markdown",
      "metadata": {
        "id": "t4HliQajfTqS"
      },
      "source": [
        "<h4><b>AGREGANDO LAS ETIQUETAS DE DATOS AL GRÁFICO</b></h4>"
      ]
    },
    {
      "cell_type": "code",
      "execution_count": 20,
      "metadata": {
        "colab": {
          "base_uri": "https://localhost:8080/",
          "height": 713
        },
        "id": "gKeRhXMPfUBn",
        "outputId": "e08ea406-b31a-4a8f-f492-75dbe2ef2576"
      },
      "outputs": [
        {
          "data": {
            "image/png": "[encoded data removed]",
            "text/plain": [
              "<Figure size 640x480 with 1 Axes>"
            ]
          },
          "metadata": {},
          "output_type": "display_data"
        }
      ],
      "source": [
        "datasetRPG = nombresRPG.head(10)\n",
        "datasetRPG.set_index('Title', inplace=True) #Inplace Modifica el DataFrame dataserRPG directamente sin necesidad de reasignarlo\n",
        "\n",
        "grafico = datasetRPG['Rating'].plot(kind='bar')\n",
        "\n",
        "#Agregando etiquetas de rating en las barras\n",
        "for i, rating in enumerate(datasetRPG['Rating']):  #enumarate: itera sobre los índices y valores de la serie 'Rating'\n",
        "    grafico.annotate(str(rating), xy=(i, rating), ha='center', va='bottom') #ha: alineación horizontal - #va: alineación vertical\n",
        "\n",
        "plt.show()"
      ]
    },
    {
      "cell_type": "markdown",
      "metadata": {
        "id": "16nnJEIEfWJG"
      },
      "source": [
        "<h4><b>OTRA FORMA DE AGREGAR LAS ETIQUETAS DE DATOS AL GRÁFICO (PERSONALIZACIÓN)</b></h4>\n"
      ]
    },
    {
      "cell_type": "code",
      "execution_count": 21,
      "metadata": {
        "colab": {
          "base_uri": "https://localhost:8080/",
          "height": 607
        },
        "id": "a7Ys1FqTfYqd",
        "outputId": "40cfc14a-b7af-4784-ef37-5573ea6380af"
      },
      "outputs": [
        {
          "data": {
            "image/png": "[encoded data removed]",
            "text/plain": [
              "<Figure size 1000x600 with 1 Axes>"
            ]
          },
          "metadata": {},
          "output_type": "display_data"
        }
      ],
      "source": [
        "# Se puede comprimir en una linea\n",
        "# Primeras 10 filas y establecer 'Title' como índice\n",
        "datasetRPG = nombresRPG.head(10).set_index('Title')\n",
        "\n",
        "# Creación un gráfico de barras\n",
        "NewGrafico = datasetRPG['Rating'].plot(kind='bar', figsize=(10, 6), color='skyblue') # figsize: tamaño del plot , color = color de las barras\n",
        "\n",
        "# Se agrean las etiquetas de 'Rating' en las barras\n",
        "for p in NewGrafico.patches: #paches: todas las barras del gráfico\n",
        "    NewGrafico.annotate(f'{p.get_height():.1f}', (p.get_x() + p.get_width() / 2, p.get_height()), #get.height: obtiene la altura de la barra (valor Rating)\n",
        "                ha='center', va='bottom')\n",
        "\n",
        "# Configuración de las etiquetas y título\n",
        "NewGrafico.set_ylabel('Rating')\n",
        "NewGrafico.set_title('Ratings de los primeros 10 RPGs')\n",
        "plt.xticks(rotation=45, ha='right') #rotación de las etiquetas del eje X en 45°, alineado a la derecha\n",
        "\n",
        "# Mostrar el gráfico\n",
        "plt.tight_layout() # función que permite ajustar el diseño del gráfico para que no se superpongan los elementos\n",
        "plt.show()"
      ]
    },
    {
      "cell_type": "markdown",
      "metadata": {
        "id": "0eSI4It8fhxs"
      },
      "source": [
        "<h4><b>PROMEDIO RATING VIDEOJUEGOS RPG</b></h4>"
      ]
    },
    {
      "cell_type": "code",
      "execution_count": 22,
      "metadata": {
        "colab": {
          "base_uri": "https://localhost:8080/"
        },
        "id": "IH-lCBFffiNQ",
        "outputId": "9b198b5d-07fd-43a4-c7a8-873797cbd5e3"
      },
      "outputs": [
        {
          "data": {
            "text/plain": [
              "np.float64(3.8325581395348833)"
            ]
          },
          "execution_count": 22,
          "metadata": {},
          "output_type": "execute_result"
        }
      ],
      "source": [
        "#La función lambda se aplica a cada elemento de la columna Genres\n",
        "#Esta es una función comprueba si la cadena \"RPG\" está presente en el valor de cada fila (Resultado serie de booleanos)\n",
        "\n",
        "ratings_RPG = data_sin_nulos[data_sin_nulos['Genres'].apply(lambda x: 'RPG' in x)]['Rating']\n",
        "promedio_RPG = ratings_RPG.mean()\n",
        "\n",
        "promedio_RPG\n"
      ]
    },
    {
      "cell_type": "markdown",
      "metadata": {
        "id": "cYzuM_76fmzR"
      },
      "source": [
        "<h4><b>PROMEDIO RATING VIDEOJUEGOS INDIE</b></h4>"
      ]
    },
    {
      "cell_type": "code",
      "execution_count": 23,
      "metadata": {
        "colab": {
          "base_uri": "https://localhost:8080/"
        },
        "id": "mW4frQj4fnNS",
        "outputId": "db62b94d-71e8-420d-cd8c-c2de0a35c54c"
      },
      "outputs": [
        {
          "data": {
            "text/plain": [
              "np.float64(3.7031802120141344)"
            ]
          },
          "execution_count": 23,
          "metadata": {},
          "output_type": "execute_result"
        }
      ],
      "source": [
        "ratings_Indie = data_sin_nulos[data_sin_nulos['Genres'].apply(lambda x: 'Indie' in x)]['Rating']\n",
        "promedio_Indie = ratings_Indie.mean()\n",
        "\n",
        "promedio_Indie\n"
      ]
    },
    {
      "cell_type": "markdown",
      "metadata": {
        "id": "4zq4XZCefw5V"
      },
      "source": [
        "<h4><b>CREACIÓN DE UN NUEVO DATAFRAME (Género y Promedio)</b></h4>"
      ]
    },
    {
      "cell_type": "code",
      "execution_count": 24,
      "metadata": {
        "id": "MfmVM8tlfxlS"
      },
      "outputs": [],
      "source": [
        "#La función DataFrame crea un nuevo DataFrame vacío o a partir de datos existentes\n",
        "#Recibe un diccionario, especificando las etiquetas de las columnas (claves) y sus valores respectivos\n",
        "dataset_promedios = pd.DataFrame({'Género': ['RPG', 'Indie'], 'Promedio': [promedio_RPG, promedio_Indie]})"
      ]
    },
    {
      "cell_type": "markdown",
      "metadata": {
        "id": "jnkfQKtkf053"
      },
      "source": [
        "<h4><b>CREACIÓN DEL GRÁFICO CIRCULAR</b></h4>"
      ]
    },
    {
      "cell_type": "code",
      "execution_count": 25,
      "metadata": {
        "colab": {
          "base_uri": "https://localhost:8080/",
          "height": 429
        },
        "id": "QxnDHMo9f1lz",
        "outputId": "3b9bd06d-e6f5-48e8-eb1f-f6297a450472"
      },
      "outputs": [
        {
          "data": {
            "image/png": "[encoded data removed]",
            "text/plain": [
              "<Figure size 640x480 with 1 Axes>"
            ]
          },
          "metadata": {},
          "output_type": "display_data"
        }
      ],
      "source": [
        "#plt.pie crea gráficos circulares\n",
        "#autopct: es una cadena de formato que especifica cómo se mostrarán los porcentajes en el gráfico circular\n",
        "plt.pie(dataset_promedios['Promedio'], labels=dataset_promedios['Género'], autopct='%1.1f%%')\n",
        "plt.title('Promedio de Rating por Género')\n",
        "plt.show()\n"
      ]
    },
    {
      "cell_type": "markdown",
      "metadata": {
        "id": "SfRphSMjga7K"
      },
      "source": [
        "<h4><b>EXPORTANDO EL NUEVO DATASET SIN NULOS</b></h4>"
      ]
    },
    {
      "cell_type": "code",
      "execution_count": 26,
      "metadata": {
        "id": "NWkn3RwigFys"
      },
      "outputs": [],
      "source": [
        "output = \"/content/drive/MyDrive/Colab/data/games-clean.csv\""
      ]
    },
    {
      "cell_type": "code",
      "execution_count": 27,
      "metadata": {
        "id": "Kd8bqtXwf_--"
      },
      "outputs": [
        {
          "ename": "OSError",
          "evalue": "Cannot save file into a non-existent directory: '\\content\\drive\\MyDrive\\Colab\\data'",
          "output_type": "error",
          "traceback": [
            "\u001b[1;31m---------------------------------------------------------------------------\u001b[0m",
            "\u001b[1;31mOSError\u001b[0m                                   Traceback (most recent call last)",
            "Cell \u001b[1;32mIn[27], line 1\u001b[0m\n\u001b[1;32m----> 1\u001b[0m \u001b[43mdata_sin_nulos\u001b[49m\u001b[38;5;241;43m.\u001b[39;49m\u001b[43mto_csv\u001b[49m\u001b[43m(\u001b[49m\u001b[43moutput\u001b[49m\u001b[43m)\u001b[49m\n",
            "File \u001b[1;32mc:\\Users\\facki\\AppData\\Local\\Programs\\Python\\Python310\\lib\\site-packages\\pandas\\util\\_decorators.py:333\u001b[0m, in \u001b[0;36mdeprecate_nonkeyword_arguments.<locals>.decorate.<locals>.wrapper\u001b[1;34m(*args, **kwargs)\u001b[0m\n\u001b[0;32m    327\u001b[0m \u001b[38;5;28;01mif\u001b[39;00m \u001b[38;5;28mlen\u001b[39m(args) \u001b[38;5;241m>\u001b[39m num_allow_args:\n\u001b[0;32m    328\u001b[0m     warnings\u001b[38;5;241m.\u001b[39mwarn(\n\u001b[0;32m    329\u001b[0m         msg\u001b[38;5;241m.\u001b[39mformat(arguments\u001b[38;5;241m=\u001b[39m_format_argument_list(allow_args)),\n\u001b[0;32m    330\u001b[0m         \u001b[38;5;167;01mFutureWarning\u001b[39;00m,\n\u001b[0;32m    331\u001b[0m         stacklevel\u001b[38;5;241m=\u001b[39mfind_stack_level(),\n\u001b[0;32m    332\u001b[0m     )\n\u001b[1;32m--> 333\u001b[0m \u001b[38;5;28;01mreturn\u001b[39;00m func(\u001b[38;5;241m*\u001b[39margs, \u001b[38;5;241m*\u001b[39m\u001b[38;5;241m*\u001b[39mkwargs)\n",
            "File \u001b[1;32mc:\\Users\\facki\\AppData\\Local\\Programs\\Python\\Python310\\lib\\site-packages\\pandas\\core\\generic.py:3986\u001b[0m, in \u001b[0;36mNDFrame.to_csv\u001b[1;34m(self, path_or_buf, sep, na_rep, float_format, columns, header, index, index_label, mode, encoding, compression, quoting, quotechar, lineterminator, chunksize, date_format, doublequote, escapechar, decimal, errors, storage_options)\u001b[0m\n\u001b[0;32m   3975\u001b[0m df \u001b[38;5;241m=\u001b[39m \u001b[38;5;28mself\u001b[39m \u001b[38;5;28;01mif\u001b[39;00m \u001b[38;5;28misinstance\u001b[39m(\u001b[38;5;28mself\u001b[39m, ABCDataFrame) \u001b[38;5;28;01melse\u001b[39;00m \u001b[38;5;28mself\u001b[39m\u001b[38;5;241m.\u001b[39mto_frame()\n\u001b[0;32m   3977\u001b[0m formatter \u001b[38;5;241m=\u001b[39m DataFrameFormatter(\n\u001b[0;32m   3978\u001b[0m     frame\u001b[38;5;241m=\u001b[39mdf,\n\u001b[0;32m   3979\u001b[0m     header\u001b[38;5;241m=\u001b[39mheader,\n\u001b[1;32m   (...)\u001b[0m\n\u001b[0;32m   3983\u001b[0m     decimal\u001b[38;5;241m=\u001b[39mdecimal,\n\u001b[0;32m   3984\u001b[0m )\n\u001b[1;32m-> 3986\u001b[0m \u001b[38;5;28;01mreturn\u001b[39;00m \u001b[43mDataFrameRenderer\u001b[49m\u001b[43m(\u001b[49m\u001b[43mformatter\u001b[49m\u001b[43m)\u001b[49m\u001b[38;5;241;43m.\u001b[39;49m\u001b[43mto_csv\u001b[49m\u001b[43m(\u001b[49m\n\u001b[0;32m   3987\u001b[0m \u001b[43m    \u001b[49m\u001b[43mpath_or_buf\u001b[49m\u001b[43m,\u001b[49m\n\u001b[0;32m   3988\u001b[0m \u001b[43m    \u001b[49m\u001b[43mlineterminator\u001b[49m\u001b[38;5;241;43m=\u001b[39;49m\u001b[43mlineterminator\u001b[49m\u001b[43m,\u001b[49m\n\u001b[0;32m   3989\u001b[0m \u001b[43m    \u001b[49m\u001b[43msep\u001b[49m\u001b[38;5;241;43m=\u001b[39;49m\u001b[43msep\u001b[49m\u001b[43m,\u001b[49m\n\u001b[0;32m   3990\u001b[0m \u001b[43m    \u001b[49m\u001b[43mencoding\u001b[49m\u001b[38;5;241;43m=\u001b[39;49m\u001b[43mencoding\u001b[49m\u001b[43m,\u001b[49m\n\u001b[0;32m   3991\u001b[0m \u001b[43m    \u001b[49m\u001b[43merrors\u001b[49m\u001b[38;5;241;43m=\u001b[39;49m\u001b[43merrors\u001b[49m\u001b[43m,\u001b[49m\n\u001b[0;32m   3992\u001b[0m \u001b[43m    \u001b[49m\u001b[43mcompression\u001b[49m\u001b[38;5;241;43m=\u001b[39;49m\u001b[43mcompression\u001b[49m\u001b[43m,\u001b[49m\n\u001b[0;32m   3993\u001b[0m \u001b[43m    \u001b[49m\u001b[43mquoting\u001b[49m\u001b[38;5;241;43m=\u001b[39;49m\u001b[43mquoting\u001b[49m\u001b[43m,\u001b[49m\n\u001b[0;32m   3994\u001b[0m \u001b[43m    \u001b[49m\u001b[43mcolumns\u001b[49m\u001b[38;5;241;43m=\u001b[39;49m\u001b[43mcolumns\u001b[49m\u001b[43m,\u001b[49m\n\u001b[0;32m   3995\u001b[0m \u001b[43m    \u001b[49m\u001b[43mindex_label\u001b[49m\u001b[38;5;241;43m=\u001b[39;49m\u001b[43mindex_label\u001b[49m\u001b[43m,\u001b[49m\n\u001b[0;32m   3996\u001b[0m \u001b[43m    \u001b[49m\u001b[43mmode\u001b[49m\u001b[38;5;241;43m=\u001b[39;49m\u001b[43mmode\u001b[49m\u001b[43m,\u001b[49m\n\u001b[0;32m   3997\u001b[0m \u001b[43m    \u001b[49m\u001b[43mchunksize\u001b[49m\u001b[38;5;241;43m=\u001b[39;49m\u001b[43mchunksize\u001b[49m\u001b[43m,\u001b[49m\n\u001b[0;32m   3998\u001b[0m \u001b[43m    \u001b[49m\u001b[43mquotechar\u001b[49m\u001b[38;5;241;43m=\u001b[39;49m\u001b[43mquotechar\u001b[49m\u001b[43m,\u001b[49m\n\u001b[0;32m   3999\u001b[0m \u001b[43m    \u001b[49m\u001b[43mdate_format\u001b[49m\u001b[38;5;241;43m=\u001b[39;49m\u001b[43mdate_format\u001b[49m\u001b[43m,\u001b[49m\n\u001b[0;32m   4000\u001b[0m \u001b[43m    \u001b[49m\u001b[43mdoublequote\u001b[49m\u001b[38;5;241;43m=\u001b[39;49m\u001b[43mdoublequote\u001b[49m\u001b[43m,\u001b[49m\n\u001b[0;32m   4001\u001b[0m \u001b[43m    \u001b[49m\u001b[43mescapechar\u001b[49m\u001b[38;5;241;43m=\u001b[39;49m\u001b[43mescapechar\u001b[49m\u001b[43m,\u001b[49m\n\u001b[0;32m   4002\u001b[0m \u001b[43m    \u001b[49m\u001b[43mstorage_options\u001b[49m\u001b[38;5;241;43m=\u001b[39;49m\u001b[43mstorage_options\u001b[49m\u001b[43m,\u001b[49m\n\u001b[0;32m   4003\u001b[0m \u001b[43m\u001b[49m\u001b[43m)\u001b[49m\n",
            "File \u001b[1;32mc:\\Users\\facki\\AppData\\Local\\Programs\\Python\\Python310\\lib\\site-packages\\pandas\\io\\formats\\format.py:1014\u001b[0m, in \u001b[0;36mDataFrameRenderer.to_csv\u001b[1;34m(self, path_or_buf, encoding, sep, columns, index_label, mode, compression, quoting, quotechar, lineterminator, chunksize, date_format, doublequote, escapechar, errors, storage_options)\u001b[0m\n\u001b[0;32m    993\u001b[0m     created_buffer \u001b[38;5;241m=\u001b[39m \u001b[38;5;28;01mFalse\u001b[39;00m\n\u001b[0;32m    995\u001b[0m csv_formatter \u001b[38;5;241m=\u001b[39m CSVFormatter(\n\u001b[0;32m    996\u001b[0m     path_or_buf\u001b[38;5;241m=\u001b[39mpath_or_buf,\n\u001b[0;32m    997\u001b[0m     lineterminator\u001b[38;5;241m=\u001b[39mlineterminator,\n\u001b[1;32m   (...)\u001b[0m\n\u001b[0;32m   1012\u001b[0m     formatter\u001b[38;5;241m=\u001b[39m\u001b[38;5;28mself\u001b[39m\u001b[38;5;241m.\u001b[39mfmt,\n\u001b[0;32m   1013\u001b[0m )\n\u001b[1;32m-> 1014\u001b[0m \u001b[43mcsv_formatter\u001b[49m\u001b[38;5;241;43m.\u001b[39;49m\u001b[43msave\u001b[49m\u001b[43m(\u001b[49m\u001b[43m)\u001b[49m\n\u001b[0;32m   1016\u001b[0m \u001b[38;5;28;01mif\u001b[39;00m created_buffer:\n\u001b[0;32m   1017\u001b[0m     \u001b[38;5;28;01massert\u001b[39;00m \u001b[38;5;28misinstance\u001b[39m(path_or_buf, StringIO)\n",
            "File \u001b[1;32mc:\\Users\\facki\\AppData\\Local\\Programs\\Python\\Python310\\lib\\site-packages\\pandas\\io\\formats\\csvs.py:251\u001b[0m, in \u001b[0;36mCSVFormatter.save\u001b[1;34m(self)\u001b[0m\n\u001b[0;32m    247\u001b[0m \u001b[38;5;250m\u001b[39m\u001b[38;5;124;03m\"\"\"\u001b[39;00m\n\u001b[0;32m    248\u001b[0m \u001b[38;5;124;03mCreate the writer & save.\u001b[39;00m\n\u001b[0;32m    249\u001b[0m \u001b[38;5;124;03m\"\"\"\u001b[39;00m\n\u001b[0;32m    250\u001b[0m \u001b[38;5;66;03m# apply compression and byte/text conversion\u001b[39;00m\n\u001b[1;32m--> 251\u001b[0m \u001b[38;5;28;01mwith\u001b[39;00m \u001b[43mget_handle\u001b[49m\u001b[43m(\u001b[49m\n\u001b[0;32m    252\u001b[0m \u001b[43m    \u001b[49m\u001b[38;5;28;43mself\u001b[39;49m\u001b[38;5;241;43m.\u001b[39;49m\u001b[43mfilepath_or_buffer\u001b[49m\u001b[43m,\u001b[49m\n\u001b[0;32m    253\u001b[0m \u001b[43m    \u001b[49m\u001b[38;5;28;43mself\u001b[39;49m\u001b[38;5;241;43m.\u001b[39;49m\u001b[43mmode\u001b[49m\u001b[43m,\u001b[49m\n\u001b[0;32m    254\u001b[0m \u001b[43m    \u001b[49m\u001b[43mencoding\u001b[49m\u001b[38;5;241;43m=\u001b[39;49m\u001b[38;5;28;43mself\u001b[39;49m\u001b[38;5;241;43m.\u001b[39;49m\u001b[43mencoding\u001b[49m\u001b[43m,\u001b[49m\n\u001b[0;32m    255\u001b[0m \u001b[43m    \u001b[49m\u001b[43merrors\u001b[49m\u001b[38;5;241;43m=\u001b[39;49m\u001b[38;5;28;43mself\u001b[39;49m\u001b[38;5;241;43m.\u001b[39;49m\u001b[43merrors\u001b[49m\u001b[43m,\u001b[49m\n\u001b[0;32m    256\u001b[0m \u001b[43m    \u001b[49m\u001b[43mcompression\u001b[49m\u001b[38;5;241;43m=\u001b[39;49m\u001b[38;5;28;43mself\u001b[39;49m\u001b[38;5;241;43m.\u001b[39;49m\u001b[43mcompression\u001b[49m\u001b[43m,\u001b[49m\n\u001b[0;32m    257\u001b[0m \u001b[43m    \u001b[49m\u001b[43mstorage_options\u001b[49m\u001b[38;5;241;43m=\u001b[39;49m\u001b[38;5;28;43mself\u001b[39;49m\u001b[38;5;241;43m.\u001b[39;49m\u001b[43mstorage_options\u001b[49m\u001b[43m,\u001b[49m\n\u001b[0;32m    258\u001b[0m \u001b[43m\u001b[49m\u001b[43m)\u001b[49m \u001b[38;5;28;01mas\u001b[39;00m handles:\n\u001b[0;32m    259\u001b[0m     \u001b[38;5;66;03m# Note: self.encoding is irrelevant here\u001b[39;00m\n\u001b[0;32m    260\u001b[0m     \u001b[38;5;28mself\u001b[39m\u001b[38;5;241m.\u001b[39mwriter \u001b[38;5;241m=\u001b[39m csvlib\u001b[38;5;241m.\u001b[39mwriter(\n\u001b[0;32m    261\u001b[0m         handles\u001b[38;5;241m.\u001b[39mhandle,\n\u001b[0;32m    262\u001b[0m         lineterminator\u001b[38;5;241m=\u001b[39m\u001b[38;5;28mself\u001b[39m\u001b[38;5;241m.\u001b[39mlineterminator,\n\u001b[1;32m   (...)\u001b[0m\n\u001b[0;32m    267\u001b[0m         quotechar\u001b[38;5;241m=\u001b[39m\u001b[38;5;28mself\u001b[39m\u001b[38;5;241m.\u001b[39mquotechar,\n\u001b[0;32m    268\u001b[0m     )\n\u001b[0;32m    270\u001b[0m     \u001b[38;5;28mself\u001b[39m\u001b[38;5;241m.\u001b[39m_save()\n",
            "File \u001b[1;32mc:\\Users\\facki\\AppData\\Local\\Programs\\Python\\Python310\\lib\\site-packages\\pandas\\io\\common.py:749\u001b[0m, in \u001b[0;36mget_handle\u001b[1;34m(path_or_buf, mode, encoding, compression, memory_map, is_text, errors, storage_options)\u001b[0m\n\u001b[0;32m    747\u001b[0m \u001b[38;5;66;03m# Only for write methods\u001b[39;00m\n\u001b[0;32m    748\u001b[0m \u001b[38;5;28;01mif\u001b[39;00m \u001b[38;5;124m\"\u001b[39m\u001b[38;5;124mr\u001b[39m\u001b[38;5;124m\"\u001b[39m \u001b[38;5;129;01mnot\u001b[39;00m \u001b[38;5;129;01min\u001b[39;00m mode \u001b[38;5;129;01mand\u001b[39;00m is_path:\n\u001b[1;32m--> 749\u001b[0m     \u001b[43mcheck_parent_directory\u001b[49m\u001b[43m(\u001b[49m\u001b[38;5;28;43mstr\u001b[39;49m\u001b[43m(\u001b[49m\u001b[43mhandle\u001b[49m\u001b[43m)\u001b[49m\u001b[43m)\u001b[49m\n\u001b[0;32m    751\u001b[0m \u001b[38;5;28;01mif\u001b[39;00m compression:\n\u001b[0;32m    752\u001b[0m     \u001b[38;5;28;01mif\u001b[39;00m compression \u001b[38;5;241m!=\u001b[39m \u001b[38;5;124m\"\u001b[39m\u001b[38;5;124mzstd\u001b[39m\u001b[38;5;124m\"\u001b[39m:\n\u001b[0;32m    753\u001b[0m         \u001b[38;5;66;03m# compression libraries do not like an explicit text-mode\u001b[39;00m\n",
            "File \u001b[1;32mc:\\Users\\facki\\AppData\\Local\\Programs\\Python\\Python310\\lib\\site-packages\\pandas\\io\\common.py:616\u001b[0m, in \u001b[0;36mcheck_parent_directory\u001b[1;34m(path)\u001b[0m\n\u001b[0;32m    614\u001b[0m parent \u001b[38;5;241m=\u001b[39m Path(path)\u001b[38;5;241m.\u001b[39mparent\n\u001b[0;32m    615\u001b[0m \u001b[38;5;28;01mif\u001b[39;00m \u001b[38;5;129;01mnot\u001b[39;00m parent\u001b[38;5;241m.\u001b[39mis_dir():\n\u001b[1;32m--> 616\u001b[0m     \u001b[38;5;28;01mraise\u001b[39;00m \u001b[38;5;167;01mOSError\u001b[39;00m(\u001b[38;5;124mrf\u001b[39m\u001b[38;5;124m\"\u001b[39m\u001b[38;5;124mCannot save file into a non-existent directory: \u001b[39m\u001b[38;5;124m'\u001b[39m\u001b[38;5;132;01m{\u001b[39;00mparent\u001b[38;5;132;01m}\u001b[39;00m\u001b[38;5;124m'\u001b[39m\u001b[38;5;124m\"\u001b[39m)\n",
            "\u001b[1;31mOSError\u001b[0m: Cannot save file into a non-existent directory: '\\content\\drive\\MyDrive\\Colab\\data'"
          ]
        }
      ],
      "source": [
        "data_sin_nulos.to_csv(output)"
      ]
    }
  ],
  "metadata": {
    "colab": {
      "provenance": []
    },
    "kernelspec": {
      "display_name": "Python 3",
      "name": "python3"
    },
    "language_info": {
      "codemirror_mode": {
        "name": "ipython",
        "version": 3
      },
      "file_extension": ".py",
      "mimetype": "text/x-python",
      "name": "python",
      "nbconvert_exporter": "python",
      "pygments_lexer": "ipython3",
      "version": "3.10.5"
    }
  },
  "nbformat": 4,
  "nbformat_minor": 0
}
